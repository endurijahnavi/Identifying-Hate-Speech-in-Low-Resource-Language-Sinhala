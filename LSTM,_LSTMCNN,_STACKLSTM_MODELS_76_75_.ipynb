{
  "nbformat": 4,
  "nbformat_minor": 0,
  "metadata": {
    "colab": {
      "provenance": [],
      "gpuType": "T4"
    },
    "kernelspec": {
      "name": "python3",
      "display_name": "Python 3"
    },
    "language_info": {
      "name": "python"
    },
    "accelerator": "GPU"
  },
  "cells": [
    {
      "cell_type": "markdown",
      "source": [
        "**HASOC - sinhala**"
      ],
      "metadata": {
        "id": "0vg-ZIEeAc02"
      }
    },
    {
      "cell_type": "code",
      "source": [
        "from google.colab import drive\n",
        "drive.mount('/content/drive')"
      ],
      "metadata": {
        "colab": {
          "base_uri": "https://localhost:8080/"
        },
        "id": "pfXXV_eTxFlx",
        "outputId": "5924f699-18f4-4fe3-ae52-514a155f78aa"
      },
      "execution_count": null,
      "outputs": [
        {
          "output_type": "stream",
          "name": "stdout",
          "text": [
            "Mounted at /content/drive\n"
          ]
        }
      ]
    },
    {
      "cell_type": "code",
      "source": [
        "import pandas as pd\n",
        "import re\n",
        "import csv"
      ],
      "metadata": {
        "id": "y8RGBLWYAm-P"
      },
      "execution_count": null,
      "outputs": []
    },
    {
      "cell_type": "markdown",
      "source": [
        "#####Accessing dataset through the drive"
      ],
      "metadata": {
        "id": "bhuZ5N4_sDjH"
      }
    },
    {
      "cell_type": "code",
      "source": [
        "filename = '/content/drive/MyDrive/train_v2.csv'\n",
        "\n",
        "try:\n",
        "    train_data = pd.read_csv(filename, delimiter='\\t')  # Load data as a DataFrame\n",
        "except pd.errors.EmptyDataError:\n",
        "    print(\"The file is empty or could not be loaded.\")\n",
        "except pd.errors.ParserError as e:\n",
        "    print(f\"Parser Error: {e}\")"
      ],
      "metadata": {
        "id": "z5o2M-bRA1r1"
      },
      "execution_count": null,
      "outputs": []
    },
    {
      "cell_type": "markdown",
      "source": [
        "#####Preview of the dataset and understanding it"
      ],
      "metadata": {
        "id": "_PITrcTBsTHW"
      }
    },
    {
      "cell_type": "code",
      "source": [
        "train_data.head()"
      ],
      "metadata": {
        "colab": {
          "base_uri": "https://localhost:8080/",
          "height": 206
        },
        "id": "2_h8htNpA_0V",
        "outputId": "d0f740a9-98d4-4a98-89de-01515171f93e"
      },
      "execution_count": null,
      "outputs": [
        {
          "output_type": "execute_result",
          "data": {
            "text/plain": [
              "               post_id                                               text  \\\n",
              "0   726758237668659201                         @USER @USER  පට්ට පට පට...   \n",
              "1   915618589855617026  පරණ කෑල්ල අද වෙනකම් හිටියනම් අදට අවුරුදු 4යි. ...   \n",
              "2   925001070430040065  යාළුවා කියලා හිතන් සර් ගේ ඔලුවට රෙද්ද දාලා නෙල...   \n",
              "3  1397219745707986955  හොඳ මිතුරියක් කතා කලා. විස්තර කතාකරමින් ඉදලා ම...   \n",
              "4   950376113150222336              ඔය බනින්නෙ.. හරකා, මී හරකා කිය කිය...   \n",
              "\n",
              "  label  \n",
              "0   NOT  \n",
              "1   HOF  \n",
              "2   NOT  \n",
              "3   HOF  \n",
              "4   HOF  "
            ],
            "text/html": [
              "\n",
              "  <div id=\"df-bc7a8f48-168d-44bc-9be7-4f6bbdfd6a69\" class=\"colab-df-container\">\n",
              "    <div>\n",
              "<style scoped>\n",
              "    .dataframe tbody tr th:only-of-type {\n",
              "        vertical-align: middle;\n",
              "    }\n",
              "\n",
              "    .dataframe tbody tr th {\n",
              "        vertical-align: top;\n",
              "    }\n",
              "\n",
              "    .dataframe thead th {\n",
              "        text-align: right;\n",
              "    }\n",
              "</style>\n",
              "<table border=\"1\" class=\"dataframe\">\n",
              "  <thead>\n",
              "    <tr style=\"text-align: right;\">\n",
              "      <th></th>\n",
              "      <th>post_id</th>\n",
              "      <th>text</th>\n",
              "      <th>label</th>\n",
              "    </tr>\n",
              "  </thead>\n",
              "  <tbody>\n",
              "    <tr>\n",
              "      <th>0</th>\n",
              "      <td>726758237668659201</td>\n",
              "      <td>@USER @USER  පට්ට පට පට...</td>\n",
              "      <td>NOT</td>\n",
              "    </tr>\n",
              "    <tr>\n",
              "      <th>1</th>\n",
              "      <td>915618589855617026</td>\n",
              "      <td>පරණ කෑල්ල අද වෙනකම් හිටියනම් අදට අවුරුදු 4යි. ...</td>\n",
              "      <td>HOF</td>\n",
              "    </tr>\n",
              "    <tr>\n",
              "      <th>2</th>\n",
              "      <td>925001070430040065</td>\n",
              "      <td>යාළුවා කියලා හිතන් සර් ගේ ඔලුවට රෙද්ද දාලා නෙල...</td>\n",
              "      <td>NOT</td>\n",
              "    </tr>\n",
              "    <tr>\n",
              "      <th>3</th>\n",
              "      <td>1397219745707986955</td>\n",
              "      <td>හොඳ මිතුරියක් කතා කලා. විස්තර කතාකරමින් ඉදලා ම...</td>\n",
              "      <td>HOF</td>\n",
              "    </tr>\n",
              "    <tr>\n",
              "      <th>4</th>\n",
              "      <td>950376113150222336</td>\n",
              "      <td>ඔය බනින්නෙ.. හරකා, මී හරකා කිය කිය...</td>\n",
              "      <td>HOF</td>\n",
              "    </tr>\n",
              "  </tbody>\n",
              "</table>\n",
              "</div>\n",
              "    <div class=\"colab-df-buttons\">\n",
              "\n",
              "  <div class=\"colab-df-container\">\n",
              "    <button class=\"colab-df-convert\" onclick=\"convertToInteractive('df-bc7a8f48-168d-44bc-9be7-4f6bbdfd6a69')\"\n",
              "            title=\"Convert this dataframe to an interactive table.\"\n",
              "            style=\"display:none;\">\n",
              "\n",
              "  <svg xmlns=\"http://www.w3.org/2000/svg\" height=\"24px\" viewBox=\"0 -960 960 960\">\n",
              "    <path d=\"M120-120v-720h720v720H120Zm60-500h600v-160H180v160Zm220 220h160v-160H400v160Zm0 220h160v-160H400v160ZM180-400h160v-160H180v160Zm440 0h160v-160H620v160ZM180-180h160v-160H180v160Zm440 0h160v-160H620v160Z\"/>\n",
              "  </svg>\n",
              "    </button>\n",
              "\n",
              "  <style>\n",
              "    .colab-df-container {\n",
              "      display:flex;\n",
              "      gap: 12px;\n",
              "    }\n",
              "\n",
              "    .colab-df-convert {\n",
              "      background-color: #E8F0FE;\n",
              "      border: none;\n",
              "      border-radius: 50%;\n",
              "      cursor: pointer;\n",
              "      display: none;\n",
              "      fill: #1967D2;\n",
              "      height: 32px;\n",
              "      padding: 0 0 0 0;\n",
              "      width: 32px;\n",
              "    }\n",
              "\n",
              "    .colab-df-convert:hover {\n",
              "      background-color: #E2EBFA;\n",
              "      box-shadow: 0px 1px 2px rgba(60, 64, 67, 0.3), 0px 1px 3px 1px rgba(60, 64, 67, 0.15);\n",
              "      fill: #174EA6;\n",
              "    }\n",
              "\n",
              "    .colab-df-buttons div {\n",
              "      margin-bottom: 4px;\n",
              "    }\n",
              "\n",
              "    [theme=dark] .colab-df-convert {\n",
              "      background-color: #3B4455;\n",
              "      fill: #D2E3FC;\n",
              "    }\n",
              "\n",
              "    [theme=dark] .colab-df-convert:hover {\n",
              "      background-color: #434B5C;\n",
              "      box-shadow: 0px 1px 3px 1px rgba(0, 0, 0, 0.15);\n",
              "      filter: drop-shadow(0px 1px 2px rgba(0, 0, 0, 0.3));\n",
              "      fill: #FFFFFF;\n",
              "    }\n",
              "  </style>\n",
              "\n",
              "    <script>\n",
              "      const buttonEl =\n",
              "        document.querySelector('#df-bc7a8f48-168d-44bc-9be7-4f6bbdfd6a69 button.colab-df-convert');\n",
              "      buttonEl.style.display =\n",
              "        google.colab.kernel.accessAllowed ? 'block' : 'none';\n",
              "\n",
              "      async function convertToInteractive(key) {\n",
              "        const element = document.querySelector('#df-bc7a8f48-168d-44bc-9be7-4f6bbdfd6a69');\n",
              "        const dataTable =\n",
              "          await google.colab.kernel.invokeFunction('convertToInteractive',\n",
              "                                                    [key], {});\n",
              "        if (!dataTable) return;\n",
              "\n",
              "        const docLinkHtml = 'Like what you see? Visit the ' +\n",
              "          '<a target=\"_blank\" href=https://colab.research.google.com/notebooks/data_table.ipynb>data table notebook</a>'\n",
              "          + ' to learn more about interactive tables.';\n",
              "        element.innerHTML = '';\n",
              "        dataTable['output_type'] = 'display_data';\n",
              "        await google.colab.output.renderOutput(dataTable, element);\n",
              "        const docLink = document.createElement('div');\n",
              "        docLink.innerHTML = docLinkHtml;\n",
              "        element.appendChild(docLink);\n",
              "      }\n",
              "    </script>\n",
              "  </div>\n",
              "\n",
              "\n",
              "<div id=\"df-09ed2d2e-19fe-4db3-8341-fee8464e38d5\">\n",
              "  <button class=\"colab-df-quickchart\" onclick=\"quickchart('df-09ed2d2e-19fe-4db3-8341-fee8464e38d5')\"\n",
              "            title=\"Suggest charts\"\n",
              "            style=\"display:none;\">\n",
              "\n",
              "<svg xmlns=\"http://www.w3.org/2000/svg\" height=\"24px\"viewBox=\"0 0 24 24\"\n",
              "     width=\"24px\">\n",
              "    <g>\n",
              "        <path d=\"M19 3H5c-1.1 0-2 .9-2 2v14c0 1.1.9 2 2 2h14c1.1 0 2-.9 2-2V5c0-1.1-.9-2-2-2zM9 17H7v-7h2v7zm4 0h-2V7h2v10zm4 0h-2v-4h2v4z\"/>\n",
              "    </g>\n",
              "</svg>\n",
              "  </button>\n",
              "\n",
              "<style>\n",
              "  .colab-df-quickchart {\n",
              "      --bg-color: #E8F0FE;\n",
              "      --fill-color: #1967D2;\n",
              "      --hover-bg-color: #E2EBFA;\n",
              "      --hover-fill-color: #174EA6;\n",
              "      --disabled-fill-color: #AAA;\n",
              "      --disabled-bg-color: #DDD;\n",
              "  }\n",
              "\n",
              "  [theme=dark] .colab-df-quickchart {\n",
              "      --bg-color: #3B4455;\n",
              "      --fill-color: #D2E3FC;\n",
              "      --hover-bg-color: #434B5C;\n",
              "      --hover-fill-color: #FFFFFF;\n",
              "      --disabled-bg-color: #3B4455;\n",
              "      --disabled-fill-color: #666;\n",
              "  }\n",
              "\n",
              "  .colab-df-quickchart {\n",
              "    background-color: var(--bg-color);\n",
              "    border: none;\n",
              "    border-radius: 50%;\n",
              "    cursor: pointer;\n",
              "    display: none;\n",
              "    fill: var(--fill-color);\n",
              "    height: 32px;\n",
              "    padding: 0;\n",
              "    width: 32px;\n",
              "  }\n",
              "\n",
              "  .colab-df-quickchart:hover {\n",
              "    background-color: var(--hover-bg-color);\n",
              "    box-shadow: 0 1px 2px rgba(60, 64, 67, 0.3), 0 1px 3px 1px rgba(60, 64, 67, 0.15);\n",
              "    fill: var(--button-hover-fill-color);\n",
              "  }\n",
              "\n",
              "  .colab-df-quickchart-complete:disabled,\n",
              "  .colab-df-quickchart-complete:disabled:hover {\n",
              "    background-color: var(--disabled-bg-color);\n",
              "    fill: var(--disabled-fill-color);\n",
              "    box-shadow: none;\n",
              "  }\n",
              "\n",
              "  .colab-df-spinner {\n",
              "    border: 2px solid var(--fill-color);\n",
              "    border-color: transparent;\n",
              "    border-bottom-color: var(--fill-color);\n",
              "    animation:\n",
              "      spin 1s steps(1) infinite;\n",
              "  }\n",
              "\n",
              "  @keyframes spin {\n",
              "    0% {\n",
              "      border-color: transparent;\n",
              "      border-bottom-color: var(--fill-color);\n",
              "      border-left-color: var(--fill-color);\n",
              "    }\n",
              "    20% {\n",
              "      border-color: transparent;\n",
              "      border-left-color: var(--fill-color);\n",
              "      border-top-color: var(--fill-color);\n",
              "    }\n",
              "    30% {\n",
              "      border-color: transparent;\n",
              "      border-left-color: var(--fill-color);\n",
              "      border-top-color: var(--fill-color);\n",
              "      border-right-color: var(--fill-color);\n",
              "    }\n",
              "    40% {\n",
              "      border-color: transparent;\n",
              "      border-right-color: var(--fill-color);\n",
              "      border-top-color: var(--fill-color);\n",
              "    }\n",
              "    60% {\n",
              "      border-color: transparent;\n",
              "      border-right-color: var(--fill-color);\n",
              "    }\n",
              "    80% {\n",
              "      border-color: transparent;\n",
              "      border-right-color: var(--fill-color);\n",
              "      border-bottom-color: var(--fill-color);\n",
              "    }\n",
              "    90% {\n",
              "      border-color: transparent;\n",
              "      border-bottom-color: var(--fill-color);\n",
              "    }\n",
              "  }\n",
              "</style>\n",
              "\n",
              "  <script>\n",
              "    async function quickchart(key) {\n",
              "      const quickchartButtonEl =\n",
              "        document.querySelector('#' + key + ' button');\n",
              "      quickchartButtonEl.disabled = true;  // To prevent multiple clicks.\n",
              "      quickchartButtonEl.classList.add('colab-df-spinner');\n",
              "      try {\n",
              "        const charts = await google.colab.kernel.invokeFunction(\n",
              "            'suggestCharts', [key], {});\n",
              "      } catch (error) {\n",
              "        console.error('Error during call to suggestCharts:', error);\n",
              "      }\n",
              "      quickchartButtonEl.classList.remove('colab-df-spinner');\n",
              "      quickchartButtonEl.classList.add('colab-df-quickchart-complete');\n",
              "    }\n",
              "    (() => {\n",
              "      let quickchartButtonEl =\n",
              "        document.querySelector('#df-09ed2d2e-19fe-4db3-8341-fee8464e38d5 button');\n",
              "      quickchartButtonEl.style.display =\n",
              "        google.colab.kernel.accessAllowed ? 'block' : 'none';\n",
              "    })();\n",
              "  </script>\n",
              "</div>\n",
              "    </div>\n",
              "  </div>\n"
            ]
          },
          "metadata": {},
          "execution_count": 4
        }
      ]
    },
    {
      "cell_type": "code",
      "source": [
        "train_data.info()"
      ],
      "metadata": {
        "colab": {
          "base_uri": "https://localhost:8080/"
        },
        "id": "_xGhIhMEFr73",
        "outputId": "6284b9cf-b8f2-4cc2-b11c-936d6cfb30bb"
      },
      "execution_count": null,
      "outputs": [
        {
          "output_type": "stream",
          "name": "stdout",
          "text": [
            "<class 'pandas.core.frame.DataFrame'>\n",
            "RangeIndex: 7500 entries, 0 to 7499\n",
            "Data columns (total 3 columns):\n",
            " #   Column   Non-Null Count  Dtype \n",
            "---  ------   --------------  ----- \n",
            " 0   post_id  7500 non-null   int64 \n",
            " 1   text     7500 non-null   object\n",
            " 2   label    7500 non-null   object\n",
            "dtypes: int64(1), object(2)\n",
            "memory usage: 175.9+ KB\n"
          ]
        }
      ]
    },
    {
      "cell_type": "markdown",
      "source": [
        "#####Cleaning the dataset by removing all mentions, hashtags and other language text."
      ],
      "metadata": {
        "id": "3OpaVzxdskC5"
      }
    },
    {
      "cell_type": "code",
      "source": [
        "def cleaning_text(df, text_field):\n",
        "  df[text_field] = df[text_field].apply(lambda elem: re.sub(r\"(@[A-Za-z0-9]+)|#|([A-Za-z0-9])|(\\.+)|\\t.+\", \"\", elem))\n",
        "  return df"
      ],
      "metadata": {
        "id": "ZDmAjkJ0F6sU"
      },
      "execution_count": null,
      "outputs": []
    },
    {
      "cell_type": "code",
      "source": [
        "train = cleaning_text(train_data, \"text\")"
      ],
      "metadata": {
        "id": "f3Og6ZX9KuO2"
      },
      "execution_count": null,
      "outputs": []
    },
    {
      "cell_type": "code",
      "source": [
        "train"
      ],
      "metadata": {
        "colab": {
          "base_uri": "https://localhost:8080/",
          "height": 424
        },
        "id": "cB-Dv89yK_NS",
        "outputId": "c0a4ce38-8758-478a-af6b-615cfac41ce4"
      },
      "execution_count": null,
      "outputs": [
        {
          "output_type": "execute_result",
          "data": {
            "text/plain": [
              "                  post_id                                               text  \\\n",
              "0      726758237668659201                                         පට්ට පට පට   \n",
              "1      915618589855617026  පරණ කෑල්ල අද වෙනකම් හිටියනම් අදට අවුරුදු යි යා...   \n",
              "2      925001070430040065  යාළුවා කියලා හිතන් සර් ගේ ඔලුවට රෙද්ද දාලා නෙල...   \n",
              "3     1397219745707986955  හොඳ මිතුරියක් කතා කලා විස්තර කතාකරමින් ඉදලා මේ...   \n",
              "4      950376113150222336                   ඔය බනින්නෙ හරකා, මී හරකා කිය කිය   \n",
              "...                   ...                                                ...   \n",
              "7495   930270216612872193                    අද උදේ දැක්කා පට්ට ලස්සන හීනයක්   \n",
              "7496  1159471424613969921   කසල වෙන් කරලා දෙන්න පුරුදු වුනොත්  වැඩේ ලේසි ...   \n",
              "7497  1073271775583100928  ඒත් පබාගේ පස්ස නම් ඉස්සෝ කොටුවක් උනත් දාන්න පු...   \n",
              "7498  1131018244733657088  සුදුවෑන්වලට මාරම මාර බයක් තියෙන ඈයෝ  අන්තවාදයට...   \n",
              "7499  1386977011198046209   වෙනි පෝස්ටුවෙන් පසු මොකක්ද යකෝ ඔය දාල තියෙන්න...   \n",
              "\n",
              "     label  \n",
              "0      NOT  \n",
              "1      HOF  \n",
              "2      NOT  \n",
              "3      HOF  \n",
              "4      HOF  \n",
              "...    ...  \n",
              "7495   NOT  \n",
              "7496   NOT  \n",
              "7497   HOF  \n",
              "7498   HOF  \n",
              "7499   HOF  \n",
              "\n",
              "[7500 rows x 3 columns]"
            ],
            "text/html": [
              "\n",
              "  <div id=\"df-e4a77ea0-bdc7-4618-b118-f1669a566103\" class=\"colab-df-container\">\n",
              "    <div>\n",
              "<style scoped>\n",
              "    .dataframe tbody tr th:only-of-type {\n",
              "        vertical-align: middle;\n",
              "    }\n",
              "\n",
              "    .dataframe tbody tr th {\n",
              "        vertical-align: top;\n",
              "    }\n",
              "\n",
              "    .dataframe thead th {\n",
              "        text-align: right;\n",
              "    }\n",
              "</style>\n",
              "<table border=\"1\" class=\"dataframe\">\n",
              "  <thead>\n",
              "    <tr style=\"text-align: right;\">\n",
              "      <th></th>\n",
              "      <th>post_id</th>\n",
              "      <th>text</th>\n",
              "      <th>label</th>\n",
              "    </tr>\n",
              "  </thead>\n",
              "  <tbody>\n",
              "    <tr>\n",
              "      <th>0</th>\n",
              "      <td>726758237668659201</td>\n",
              "      <td>පට්ට පට පට</td>\n",
              "      <td>NOT</td>\n",
              "    </tr>\n",
              "    <tr>\n",
              "      <th>1</th>\n",
              "      <td>915618589855617026</td>\n",
              "      <td>පරණ කෑල්ල අද වෙනකම් හිටියනම් අදට අවුරුදු යි යා...</td>\n",
              "      <td>HOF</td>\n",
              "    </tr>\n",
              "    <tr>\n",
              "      <th>2</th>\n",
              "      <td>925001070430040065</td>\n",
              "      <td>යාළුවා කියලා හිතන් සර් ගේ ඔලුවට රෙද්ද දාලා නෙල...</td>\n",
              "      <td>NOT</td>\n",
              "    </tr>\n",
              "    <tr>\n",
              "      <th>3</th>\n",
              "      <td>1397219745707986955</td>\n",
              "      <td>හොඳ මිතුරියක් කතා කලා විස්තර කතාකරමින් ඉදලා මේ...</td>\n",
              "      <td>HOF</td>\n",
              "    </tr>\n",
              "    <tr>\n",
              "      <th>4</th>\n",
              "      <td>950376113150222336</td>\n",
              "      <td>ඔය බනින්නෙ හරකා, මී හරකා කිය කිය</td>\n",
              "      <td>HOF</td>\n",
              "    </tr>\n",
              "    <tr>\n",
              "      <th>...</th>\n",
              "      <td>...</td>\n",
              "      <td>...</td>\n",
              "      <td>...</td>\n",
              "    </tr>\n",
              "    <tr>\n",
              "      <th>7495</th>\n",
              "      <td>930270216612872193</td>\n",
              "      <td>අද උදේ දැක්කා පට්ට ලස්සන හීනයක්</td>\n",
              "      <td>NOT</td>\n",
              "    </tr>\n",
              "    <tr>\n",
              "      <th>7496</th>\n",
              "      <td>1159471424613969921</td>\n",
              "      <td>කසල වෙන් කරලා දෙන්න පුරුදු වුනොත්  වැඩේ ලේසි ...</td>\n",
              "      <td>NOT</td>\n",
              "    </tr>\n",
              "    <tr>\n",
              "      <th>7497</th>\n",
              "      <td>1073271775583100928</td>\n",
              "      <td>ඒත් පබාගේ පස්ස නම් ඉස්සෝ කොටුවක් උනත් දාන්න පු...</td>\n",
              "      <td>HOF</td>\n",
              "    </tr>\n",
              "    <tr>\n",
              "      <th>7498</th>\n",
              "      <td>1131018244733657088</td>\n",
              "      <td>සුදුවෑන්වලට මාරම මාර බයක් තියෙන ඈයෝ  අන්තවාදයට...</td>\n",
              "      <td>HOF</td>\n",
              "    </tr>\n",
              "    <tr>\n",
              "      <th>7499</th>\n",
              "      <td>1386977011198046209</td>\n",
              "      <td>වෙනි පෝස්ටුවෙන් පසු මොකක්ද යකෝ ඔය දාල තියෙන්න...</td>\n",
              "      <td>HOF</td>\n",
              "    </tr>\n",
              "  </tbody>\n",
              "</table>\n",
              "<p>7500 rows × 3 columns</p>\n",
              "</div>\n",
              "    <div class=\"colab-df-buttons\">\n",
              "\n",
              "  <div class=\"colab-df-container\">\n",
              "    <button class=\"colab-df-convert\" onclick=\"convertToInteractive('df-e4a77ea0-bdc7-4618-b118-f1669a566103')\"\n",
              "            title=\"Convert this dataframe to an interactive table.\"\n",
              "            style=\"display:none;\">\n",
              "\n",
              "  <svg xmlns=\"http://www.w3.org/2000/svg\" height=\"24px\" viewBox=\"0 -960 960 960\">\n",
              "    <path d=\"M120-120v-720h720v720H120Zm60-500h600v-160H180v160Zm220 220h160v-160H400v160Zm0 220h160v-160H400v160ZM180-400h160v-160H180v160Zm440 0h160v-160H620v160ZM180-180h160v-160H180v160Zm440 0h160v-160H620v160Z\"/>\n",
              "  </svg>\n",
              "    </button>\n",
              "\n",
              "  <style>\n",
              "    .colab-df-container {\n",
              "      display:flex;\n",
              "      gap: 12px;\n",
              "    }\n",
              "\n",
              "    .colab-df-convert {\n",
              "      background-color: #E8F0FE;\n",
              "      border: none;\n",
              "      border-radius: 50%;\n",
              "      cursor: pointer;\n",
              "      display: none;\n",
              "      fill: #1967D2;\n",
              "      height: 32px;\n",
              "      padding: 0 0 0 0;\n",
              "      width: 32px;\n",
              "    }\n",
              "\n",
              "    .colab-df-convert:hover {\n",
              "      background-color: #E2EBFA;\n",
              "      box-shadow: 0px 1px 2px rgba(60, 64, 67, 0.3), 0px 1px 3px 1px rgba(60, 64, 67, 0.15);\n",
              "      fill: #174EA6;\n",
              "    }\n",
              "\n",
              "    .colab-df-buttons div {\n",
              "      margin-bottom: 4px;\n",
              "    }\n",
              "\n",
              "    [theme=dark] .colab-df-convert {\n",
              "      background-color: #3B4455;\n",
              "      fill: #D2E3FC;\n",
              "    }\n",
              "\n",
              "    [theme=dark] .colab-df-convert:hover {\n",
              "      background-color: #434B5C;\n",
              "      box-shadow: 0px 1px 3px 1px rgba(0, 0, 0, 0.15);\n",
              "      filter: drop-shadow(0px 1px 2px rgba(0, 0, 0, 0.3));\n",
              "      fill: #FFFFFF;\n",
              "    }\n",
              "  </style>\n",
              "\n",
              "    <script>\n",
              "      const buttonEl =\n",
              "        document.querySelector('#df-e4a77ea0-bdc7-4618-b118-f1669a566103 button.colab-df-convert');\n",
              "      buttonEl.style.display =\n",
              "        google.colab.kernel.accessAllowed ? 'block' : 'none';\n",
              "\n",
              "      async function convertToInteractive(key) {\n",
              "        const element = document.querySelector('#df-e4a77ea0-bdc7-4618-b118-f1669a566103');\n",
              "        const dataTable =\n",
              "          await google.colab.kernel.invokeFunction('convertToInteractive',\n",
              "                                                    [key], {});\n",
              "        if (!dataTable) return;\n",
              "\n",
              "        const docLinkHtml = 'Like what you see? Visit the ' +\n",
              "          '<a target=\"_blank\" href=https://colab.research.google.com/notebooks/data_table.ipynb>data table notebook</a>'\n",
              "          + ' to learn more about interactive tables.';\n",
              "        element.innerHTML = '';\n",
              "        dataTable['output_type'] = 'display_data';\n",
              "        await google.colab.output.renderOutput(dataTable, element);\n",
              "        const docLink = document.createElement('div');\n",
              "        docLink.innerHTML = docLinkHtml;\n",
              "        element.appendChild(docLink);\n",
              "      }\n",
              "    </script>\n",
              "  </div>\n",
              "\n",
              "\n",
              "<div id=\"df-36aeab21-95f8-4549-8582-378d40f013e4\">\n",
              "  <button class=\"colab-df-quickchart\" onclick=\"quickchart('df-36aeab21-95f8-4549-8582-378d40f013e4')\"\n",
              "            title=\"Suggest charts\"\n",
              "            style=\"display:none;\">\n",
              "\n",
              "<svg xmlns=\"http://www.w3.org/2000/svg\" height=\"24px\"viewBox=\"0 0 24 24\"\n",
              "     width=\"24px\">\n",
              "    <g>\n",
              "        <path d=\"M19 3H5c-1.1 0-2 .9-2 2v14c0 1.1.9 2 2 2h14c1.1 0 2-.9 2-2V5c0-1.1-.9-2-2-2zM9 17H7v-7h2v7zm4 0h-2V7h2v10zm4 0h-2v-4h2v4z\"/>\n",
              "    </g>\n",
              "</svg>\n",
              "  </button>\n",
              "\n",
              "<style>\n",
              "  .colab-df-quickchart {\n",
              "      --bg-color: #E8F0FE;\n",
              "      --fill-color: #1967D2;\n",
              "      --hover-bg-color: #E2EBFA;\n",
              "      --hover-fill-color: #174EA6;\n",
              "      --disabled-fill-color: #AAA;\n",
              "      --disabled-bg-color: #DDD;\n",
              "  }\n",
              "\n",
              "  [theme=dark] .colab-df-quickchart {\n",
              "      --bg-color: #3B4455;\n",
              "      --fill-color: #D2E3FC;\n",
              "      --hover-bg-color: #434B5C;\n",
              "      --hover-fill-color: #FFFFFF;\n",
              "      --disabled-bg-color: #3B4455;\n",
              "      --disabled-fill-color: #666;\n",
              "  }\n",
              "\n",
              "  .colab-df-quickchart {\n",
              "    background-color: var(--bg-color);\n",
              "    border: none;\n",
              "    border-radius: 50%;\n",
              "    cursor: pointer;\n",
              "    display: none;\n",
              "    fill: var(--fill-color);\n",
              "    height: 32px;\n",
              "    padding: 0;\n",
              "    width: 32px;\n",
              "  }\n",
              "\n",
              "  .colab-df-quickchart:hover {\n",
              "    background-color: var(--hover-bg-color);\n",
              "    box-shadow: 0 1px 2px rgba(60, 64, 67, 0.3), 0 1px 3px 1px rgba(60, 64, 67, 0.15);\n",
              "    fill: var(--button-hover-fill-color);\n",
              "  }\n",
              "\n",
              "  .colab-df-quickchart-complete:disabled,\n",
              "  .colab-df-quickchart-complete:disabled:hover {\n",
              "    background-color: var(--disabled-bg-color);\n",
              "    fill: var(--disabled-fill-color);\n",
              "    box-shadow: none;\n",
              "  }\n",
              "\n",
              "  .colab-df-spinner {\n",
              "    border: 2px solid var(--fill-color);\n",
              "    border-color: transparent;\n",
              "    border-bottom-color: var(--fill-color);\n",
              "    animation:\n",
              "      spin 1s steps(1) infinite;\n",
              "  }\n",
              "\n",
              "  @keyframes spin {\n",
              "    0% {\n",
              "      border-color: transparent;\n",
              "      border-bottom-color: var(--fill-color);\n",
              "      border-left-color: var(--fill-color);\n",
              "    }\n",
              "    20% {\n",
              "      border-color: transparent;\n",
              "      border-left-color: var(--fill-color);\n",
              "      border-top-color: var(--fill-color);\n",
              "    }\n",
              "    30% {\n",
              "      border-color: transparent;\n",
              "      border-left-color: var(--fill-color);\n",
              "      border-top-color: var(--fill-color);\n",
              "      border-right-color: var(--fill-color);\n",
              "    }\n",
              "    40% {\n",
              "      border-color: transparent;\n",
              "      border-right-color: var(--fill-color);\n",
              "      border-top-color: var(--fill-color);\n",
              "    }\n",
              "    60% {\n",
              "      border-color: transparent;\n",
              "      border-right-color: var(--fill-color);\n",
              "    }\n",
              "    80% {\n",
              "      border-color: transparent;\n",
              "      border-right-color: var(--fill-color);\n",
              "      border-bottom-color: var(--fill-color);\n",
              "    }\n",
              "    90% {\n",
              "      border-color: transparent;\n",
              "      border-bottom-color: var(--fill-color);\n",
              "    }\n",
              "  }\n",
              "</style>\n",
              "\n",
              "  <script>\n",
              "    async function quickchart(key) {\n",
              "      const quickchartButtonEl =\n",
              "        document.querySelector('#' + key + ' button');\n",
              "      quickchartButtonEl.disabled = true;  // To prevent multiple clicks.\n",
              "      quickchartButtonEl.classList.add('colab-df-spinner');\n",
              "      try {\n",
              "        const charts = await google.colab.kernel.invokeFunction(\n",
              "            'suggestCharts', [key], {});\n",
              "      } catch (error) {\n",
              "        console.error('Error during call to suggestCharts:', error);\n",
              "      }\n",
              "      quickchartButtonEl.classList.remove('colab-df-spinner');\n",
              "      quickchartButtonEl.classList.add('colab-df-quickchart-complete');\n",
              "    }\n",
              "    (() => {\n",
              "      let quickchartButtonEl =\n",
              "        document.querySelector('#df-36aeab21-95f8-4549-8582-378d40f013e4 button');\n",
              "      quickchartButtonEl.style.display =\n",
              "        google.colab.kernel.accessAllowed ? 'block' : 'none';\n",
              "    })();\n",
              "  </script>\n",
              "</div>\n",
              "    </div>\n",
              "  </div>\n"
            ]
          },
          "metadata": {},
          "execution_count": 8
        }
      ]
    },
    {
      "cell_type": "code",
      "source": [
        "#saving this in the drive only for the purpose of crosschecking if all the unnecessary info is removed\n",
        "output_filename = 'train.csv'\n",
        "train.to_csv(output_filename, index=False, encoding='utf-8')"
      ],
      "metadata": {
        "id": "6A5ULDrDLB08"
      },
      "execution_count": null,
      "outputs": []
    },
    {
      "cell_type": "markdown",
      "source": [
        "#####Removing stopwords"
      ],
      "metadata": {
        "id": "cpmV6536tCv9"
      }
    },
    {
      "cell_type": "code",
      "source": [
        "import nltk\n",
        "from nltk.corpus import stopwords\n",
        "import requests\n",
        "stopwords_url = \"https://raw.githubusercontent.com/nlpcuom/Sinhala-Stopword-list/master/stop%20words.txt\"\n",
        "response = requests.get(stopwords_url)\n",
        "stop_words_sinhala = set(response.text.splitlines())\n",
        "stop_words_sinhala"
      ],
      "metadata": {
        "id": "S4A0CswtX6J8",
        "colab": {
          "base_uri": "https://localhost:8080/"
        },
        "outputId": "6c4f2000-47fa-4d94-d00e-56104ed5d0a2"
      },
      "execution_count": null,
      "outputs": [
        {
          "output_type": "execute_result",
          "data": {
            "text/plain": [
              "{'අතර',\n",
              " 'අන්න',\n",
              " 'අනුව',\n",
              " 'අනේ',\n",
              " 'අඳෝ',\n",
              " 'අපොයි',\n",
              " 'අපෝ',\n",
              " 'අයියෝ',\n",
              " 'අයුරින්',\n",
              " 'අයුරු',\n",
              " 'අරබයා',\n",
              " 'අහා',\n",
              " 'ආ',\n",
              " 'ආයි',\n",
              " 'ආහ්',\n",
              " 'ඇති',\n",
              " 'ඇතුලු',\n",
              " 'ඇතුළු',\n",
              " 'ඇයි',\n",
              " 'ඉක්බිති',\n",
              " 'ඉතා',\n",
              " 'ඉතින්',\n",
              " 'ඉඳුරා',\n",
              " 'උදෙසා',\n",
              " 'ඌයි',\n",
              " 'එ',\n",
              " 'එනමුත්',\n",
              " 'එනිසා',\n",
              " 'එබැවින්',\n",
              " 'එම',\n",
              " 'එම්බල',\n",
              " 'එම්බා',\n",
              " 'එහෙත්',\n",
              " 'එහෙන්',\n",
              " 'එහේ',\n",
              " 'ඒ',\n",
              " 'ඔන්න',\n",
              " 'ඕහෝ',\n",
              " 'ක',\n",
              " 'කලී',\n",
              " 'ක්',\n",
              " 'කිම',\n",
              " 'කිම්',\n",
              " 'ගානෙ',\n",
              " 'ගැන',\n",
              " 'ගේ',\n",
              " 'චික්',\n",
              " 'චිහ්',\n",
              " 'චී',\n",
              " 'ට',\n",
              " 'තව',\n",
              " 'තව ',\n",
              " 'තවත්',\n",
              " 'තාක්',\n",
              " 'තුරා',\n",
              " 'තුරාවට',\n",
              " 'තුරු',\n",
              " 'තුලින්',\n",
              " 'තුවක්',\n",
              " 'තුළ',\n",
              " 'තෙක්',\n",
              " 'ද',\n",
              " 'දක්වා',\n",
              " 'දැනට',\n",
              " 'දැන්',\n",
              " 'දී',\n",
              " 'දෝ',\n",
              " 'දෝහෝ',\n",
              " 'නම්',\n",
              " 'නමුත්',\n",
              " 'නව',\n",
              " 'නෑ',\n",
              " 'නිතර',\n",
              " 'නිති',\n",
              " 'නිතිත්',\n",
              " 'නිතොර',\n",
              " 'නිසා',\n",
              " 'නිසාවෙන්',\n",
              " 'නොහොත්',\n",
              " 'පටන්',\n",
              " 'පතා',\n",
              " 'පමණ',\n",
              " 'පමණින්',\n",
              " 'පමන',\n",
              " 'පරිදි',\n",
              " 'පවා',\n",
              " 'පාසා',\n",
              " 'පිණිස',\n",
              " 'පිළිබඳ',\n",
              " 'පිළිබඳව',\n",
              " 'පුන',\n",
              " 'බඳු',\n",
              " 'බව',\n",
              " 'බවට',\n",
              " 'බවත්',\n",
              " 'බවද',\n",
              " 'බවෙන්',\n",
              " 'බැවින්',\n",
              " 'බොල',\n",
              " 'බොහෝ',\n",
              " 'ම',\n",
              " 'මගින්',\n",
              " 'මත',\n",
              " 'මන්ද',\n",
              " 'මහ',\n",
              " 'මහා',\n",
              " 'මිස',\n",
              " 'මුත්',\n",
              " 'මෙතෙක්',\n",
              " 'මෙන්',\n",
              " 'මෙන්න',\n",
              " 'මෙම',\n",
              " 'මෙයින්',\n",
              " 'මෙලෙස',\n",
              " 'මෙසේ',\n",
              " 'මෙහි',\n",
              " 'මෙහෙන්',\n",
              " 'මෙහේ',\n",
              " 'මේ',\n",
              " 'මේතාක්',\n",
              " 'ය',\n",
              " 'යන',\n",
              " 'යලි',\n",
              " 'ලෙස',\n",
              " 'වඩා',\n",
              " 'වඩාත්ම',\n",
              " 'වත්',\n",
              " 'වන',\n",
              " 'වන්',\n",
              " 'වනාහි',\n",
              " 'වශයෙන්',\n",
              " 'වස්',\n",
              " 'වහා',\n",
              " 'වැඩි',\n",
              " 'වැනි',\n",
              " 'විට',\n",
              " 'විටින්',\n",
              " 'විනා',\n",
              " 'විශේෂ',\n",
              " 'විසින්',\n",
              " 'වෙත',\n",
              " 'වෙතට',\n",
              " 'වෙතින්',\n",
              " 'වෙන',\n",
              " 'වෙනුවට',\n",
              " 'වෙනුවෙන්',\n",
              " 'ශ්\\u200dරී',\n",
              " 'සඳහා',\n",
              " 'සමග',\n",
              " 'සමඟ',\n",
              " 'සහ',\n",
              " 'සා',\n",
              " 'සැනින්',\n",
              " 'සිට',\n",
              " 'සිටන්',\n",
              " 'සිදු',\n",
              " 'සෙද',\n",
              " 'සේ',\n",
              " 'සේක',\n",
              " 'සේක්',\n",
              " 'හනික',\n",
              " 'හා',\n",
              " 'හැර',\n",
              " 'හෙයින්',\n",
              " 'හෙවත්',\n",
              " 'හෝ\\u200d'}"
            ]
          },
          "metadata": {},
          "execution_count": 10
        }
      ]
    },
    {
      "cell_type": "code",
      "source": [
        "def remove_stopwords(df, text_field, stop_words_set):\n",
        "    df[text_field] = df[text_field].apply(lambda text: ' '.join([word for word in text.split() if word not in stop_words_set]))\n",
        "    return df\n",
        "train_clean = remove_stopwords(train, 'text', stop_words_sinhala)\n",
        "print(train_clean)"
      ],
      "metadata": {
        "colab": {
          "base_uri": "https://localhost:8080/"
        },
        "id": "MO9YhAZgktud",
        "outputId": "e85358d0-6635-4f21-c828-c9c5c4a9244b"
      },
      "execution_count": null,
      "outputs": [
        {
          "output_type": "stream",
          "name": "stdout",
          "text": [
            "                  post_id                                               text  \\\n",
            "0      726758237668659201                                         පට්ට පට පට   \n",
            "1      915618589855617026  පරණ කෑල්ල අද වෙනකම් හිටියනම් අදට අවුරුදු යි යා...   \n",
            "2      925001070430040065  යාළුවා කියලා හිතන් සර් ඔලුවට රෙද්ද දාලා නෙලන එ...   \n",
            "3     1397219745707986955  හොඳ මිතුරියක් කතා කලා විස්තර කතාකරමින් ඉදලා දව...   \n",
            "4      950376113150222336                   ඔය බනින්නෙ හරකා, මී හරකා කිය කිය   \n",
            "...                   ...                                                ...   \n",
            "7495   930270216612872193                    අද උදේ දැක්කා පට්ට ලස්සන හීනයක්   \n",
            "7496  1159471424613969921   කසල වෙන් කරලා දෙන්න පුරුදු වුනොත් වැඩේ ලේසි වෙයි   \n",
            "7497  1073271775583100928  ඒත් පබාගේ පස්ස ඉස්සෝ කොටුවක් උනත් දාන්න පුලාම්...   \n",
            "7498  1131018244733657088  සුදුවෑන්වලට මාරම මාර බයක් තියෙන ඈයෝ අන්තවාදයට ...   \n",
            "7499  1386977011198046209  වෙනි පෝස්ටුවෙන් පසු මොකක්ද යකෝ ඔය දාල තියෙන්නෙ...   \n",
            "\n",
            "     label  \n",
            "0      NOT  \n",
            "1      HOF  \n",
            "2      NOT  \n",
            "3      HOF  \n",
            "4      HOF  \n",
            "...    ...  \n",
            "7495   NOT  \n",
            "7496   NOT  \n",
            "7497   HOF  \n",
            "7498   HOF  \n",
            "7499   HOF  \n",
            "\n",
            "[7500 rows x 3 columns]\n"
          ]
        }
      ]
    },
    {
      "cell_type": "code",
      "source": [
        "!pip install scikit-learn\n",
        "from sklearn.feature_extraction.text import TfidfVectorizer\n",
        "import pandas as pd"
      ],
      "metadata": {
        "id": "tmtLH2EaopeJ",
        "colab": {
          "base_uri": "https://localhost:8080/"
        },
        "outputId": "bf34a5c0-8591-4fd6-d939-b6bd4557cf5a"
      },
      "execution_count": null,
      "outputs": [
        {
          "output_type": "stream",
          "name": "stdout",
          "text": [
            "Requirement already satisfied: scikit-learn in /usr/local/lib/python3.10/dist-packages (1.2.2)\n",
            "Requirement already satisfied: numpy>=1.17.3 in /usr/local/lib/python3.10/dist-packages (from scikit-learn) (1.23.5)\n",
            "Requirement already satisfied: scipy>=1.3.2 in /usr/local/lib/python3.10/dist-packages (from scikit-learn) (1.11.4)\n",
            "Requirement already satisfied: joblib>=1.1.1 in /usr/local/lib/python3.10/dist-packages (from scikit-learn) (1.3.2)\n",
            "Requirement already satisfied: threadpoolctl>=2.0.0 in /usr/local/lib/python3.10/dist-packages (from scikit-learn) (3.2.0)\n"
          ]
        }
      ]
    },
    {
      "cell_type": "code",
      "source": [
        "def tfidf_feature(df, text_field):\n",
        "  tfidf_vectorizer = TfidfVectorizer(max_features=1000)\n",
        "  tfidf_features = tfidf_vectorizer.fit_transform(df[text_field])\n",
        "  tfidf_df = pd.DataFrame(tfidf_features.toarray(), columns=tfidf_vectorizer.get_feature_names_out())\n",
        "  df_with_tfidf = pd.concat([df, tfidf_df], axis=1)\n",
        "  return(df_with_tfidf)\n",
        "\n",
        "new_df = tfidf_feature(train_clean, 'text')\n",
        "print(new_df)"
      ],
      "metadata": {
        "id": "CmWPL7RF_q1r",
        "colab": {
          "base_uri": "https://localhost:8080/"
        },
        "outputId": "386f4fba-28f6-4ebc-945c-986a3d12eaf0"
      },
      "execution_count": null,
      "outputs": [
        {
          "output_type": "stream",
          "name": "stdout",
          "text": [
            "                  post_id                                               text  \\\n",
            "0      726758237668659201                                         පට්ට පට පට   \n",
            "1      915618589855617026  පරණ කෑල්ල අද වෙනකම් හිටියනම් අදට අවුරුදු යි යා...   \n",
            "2      925001070430040065  යාළුවා කියලා හිතන් සර් ඔලුවට රෙද්ද දාලා නෙලන එ...   \n",
            "3     1397219745707986955  හොඳ මිතුරියක් කතා කලා විස්තර කතාකරමින් ඉදලා දව...   \n",
            "4      950376113150222336                   ඔය බනින්නෙ හරකා, මී හරකා කිය කිය   \n",
            "...                   ...                                                ...   \n",
            "7495   930270216612872193                    අද උදේ දැක්කා පට්ට ලස්සන හීනයක්   \n",
            "7496  1159471424613969921   කසල වෙන් කරලා දෙන්න පුරුදු වුනොත් වැඩේ ලේසි වෙයි   \n",
            "7497  1073271775583100928  ඒත් පබාගේ පස්ස ඉස්සෝ කොටුවක් උනත් දාන්න පුලාම්...   \n",
            "7498  1131018244733657088  සුදුවෑන්වලට මාරම මාර බයක් තියෙන ඈයෝ අන්තවාදයට ...   \n",
            "7499  1386977011198046209  වෙනි පෝස්ටුවෙන් පසු මොකක්ද යකෝ ඔය දාල තියෙන්නෙ...   \n",
            "\n",
            "     label   අක  අකම   අග  අගම   අච   අජ        අඩ  ...  හවස   හස   ළක   ළග  \\\n",
            "0      NOT  0.0  0.0  0.0  0.0  0.0  0.0  0.000000  ...  0.0  0.0  0.0  0.0   \n",
            "1      HOF  0.0  0.0  0.0  0.0  0.0  0.0  0.000000  ...  0.0  0.0  0.0  0.0   \n",
            "2      NOT  0.0  0.0  0.0  0.0  0.0  0.0  0.000000  ...  0.0  0.0  0.0  0.0   \n",
            "3      HOF  0.0  0.0  0.0  0.0  0.0  0.0  0.143886  ...  0.0  0.0  0.0  0.0   \n",
            "4      HOF  0.0  0.0  0.0  0.0  0.0  0.0  0.000000  ...  0.0  0.0  0.0  0.0   \n",
            "...    ...  ...  ...  ...  ...  ...  ...       ...  ...  ...  ...  ...  ...   \n",
            "7495   NOT  0.0  0.0  0.0  0.0  0.0  0.0  0.000000  ...  0.0  0.0  0.0  0.0   \n",
            "7496   NOT  0.0  0.0  0.0  0.0  0.0  0.0  0.000000  ...  0.0  0.0  0.0  0.0   \n",
            "7497   HOF  0.0  0.0  0.0  0.0  0.0  0.0  0.000000  ...  0.0  0.0  0.0  0.0   \n",
            "7498   HOF  0.0  0.0  0.0  0.0  0.0  0.0  0.000000  ...  0.0  0.0  0.0  0.0   \n",
            "7499   HOF  0.0  0.0  0.0  0.0  0.0  0.0  0.000000  ...  0.0  0.0  0.0  0.0   \n",
            "\n",
            "       ළඟ   ළම  ළමය   ළඹ   ෆය   ෆල  \n",
            "0     0.0  0.0  0.0  0.0  0.0  0.0  \n",
            "1     0.0  0.0  0.0  0.0  0.0  0.0  \n",
            "2     0.0  0.0  0.0  0.0  0.0  0.0  \n",
            "3     0.0  0.0  0.0  0.0  0.0  0.0  \n",
            "4     0.0  0.0  0.0  0.0  0.0  0.0  \n",
            "...   ...  ...  ...  ...  ...  ...  \n",
            "7495  0.0  0.0  0.0  0.0  0.0  0.0  \n",
            "7496  0.0  0.0  0.0  0.0  0.0  0.0  \n",
            "7497  0.0  0.0  0.0  0.0  0.0  0.0  \n",
            "7498  0.0  0.0  0.0  0.0  0.0  0.0  \n",
            "7499  0.0  0.0  0.0  0.0  0.0  0.0  \n",
            "\n",
            "[7500 rows x 1003 columns]\n"
          ]
        }
      ]
    },
    {
      "cell_type": "code",
      "source": [
        "#saving this in the drive only for the purpose of crosschecking if all the necessary info exists\n",
        "output_filename = 'tfidf.csv'\n",
        "new_df.to_csv(output_filename, index=False, encoding='utf-8')"
      ],
      "metadata": {
        "id": "4ko2Wg10BMqn"
      },
      "execution_count": null,
      "outputs": []
    },
    {
      "cell_type": "code",
      "source": [
        "import pandas as pd\n",
        "\n",
        "# Assuming you already have a DataFrame named 'train_clean'\n",
        "\n",
        "# Split the DataFrame into training and testing sets\n",
        "train_1 = train_clean.sample(frac=0.8, random_state=73)\n",
        "test_1 = train_clean.drop(train_1.index)\n",
        "\n",
        "# Save the training and testing sets to CSV files\n",
        "train_1.to_csv('train_1.csv', index=False)\n",
        "test_1.to_csv('test_1.csv', index=False)"
      ],
      "metadata": {
        "id": "VZTTwwx0tz8S"
      },
      "execution_count": null,
      "outputs": []
    },
    {
      "cell_type": "code",
      "source": [
        "train_1.head()"
      ],
      "metadata": {
        "id": "dtJTfz7Z-nvA",
        "colab": {
          "base_uri": "https://localhost:8080/",
          "height": 206
        },
        "outputId": "7e5ec79f-da54-49d5-a22f-f20840644857"
      },
      "execution_count": null,
      "outputs": [
        {
          "output_type": "execute_result",
          "data": {
            "text/plain": [
              "                  post_id                                               text  \\\n",
              "1187   748888216367800321                               ටහුඩු මම වෝට් කරන්නේ   \n",
              "4990   711569238549368834  බැට් එකට වදින බෝලයක් බෝලයක් ගානේ පපුවෙ අමාරු හ...   \n",
              "5159   887722197552308228                   යකෝ මගේ බඩුවක් ගන්න ගියා වගේනෙ !   \n",
              "913   1442439404404949000  බැන්දොත් බඳින්නෙ ඩේසිය වගේ නාකිවෙන්න වෙන්න කෑල...   \n",
              "5755  1127998077590106112             ඔබතුමා පාලනය අතට ගන්න අපට ඔබ විශ්වාසයි   \n",
              "\n",
              "     label  \n",
              "1187   NOT  \n",
              "4990   NOT  \n",
              "5159   NOT  \n",
              "913    HOF  \n",
              "5755   NOT  "
            ],
            "text/html": [
              "\n",
              "  <div id=\"df-7f7846f7-35b1-44bf-b000-c4cd29c9084e\" class=\"colab-df-container\">\n",
              "    <div>\n",
              "<style scoped>\n",
              "    .dataframe tbody tr th:only-of-type {\n",
              "        vertical-align: middle;\n",
              "    }\n",
              "\n",
              "    .dataframe tbody tr th {\n",
              "        vertical-align: top;\n",
              "    }\n",
              "\n",
              "    .dataframe thead th {\n",
              "        text-align: right;\n",
              "    }\n",
              "</style>\n",
              "<table border=\"1\" class=\"dataframe\">\n",
              "  <thead>\n",
              "    <tr style=\"text-align: right;\">\n",
              "      <th></th>\n",
              "      <th>post_id</th>\n",
              "      <th>text</th>\n",
              "      <th>label</th>\n",
              "    </tr>\n",
              "  </thead>\n",
              "  <tbody>\n",
              "    <tr>\n",
              "      <th>1187</th>\n",
              "      <td>748888216367800321</td>\n",
              "      <td>ටහුඩු මම වෝට් කරන්නේ</td>\n",
              "      <td>NOT</td>\n",
              "    </tr>\n",
              "    <tr>\n",
              "      <th>4990</th>\n",
              "      <td>711569238549368834</td>\n",
              "      <td>බැට් එකට වදින බෝලයක් බෝලයක් ගානේ පපුවෙ අමාරු හ...</td>\n",
              "      <td>NOT</td>\n",
              "    </tr>\n",
              "    <tr>\n",
              "      <th>5159</th>\n",
              "      <td>887722197552308228</td>\n",
              "      <td>යකෝ මගේ බඩුවක් ගන්න ගියා වගේනෙ !</td>\n",
              "      <td>NOT</td>\n",
              "    </tr>\n",
              "    <tr>\n",
              "      <th>913</th>\n",
              "      <td>1442439404404949000</td>\n",
              "      <td>බැන්දොත් බඳින්නෙ ඩේසිය වගේ නාකිවෙන්න වෙන්න කෑල...</td>\n",
              "      <td>HOF</td>\n",
              "    </tr>\n",
              "    <tr>\n",
              "      <th>5755</th>\n",
              "      <td>1127998077590106112</td>\n",
              "      <td>ඔබතුමා පාලනය අතට ගන්න අපට ඔබ විශ්වාසයි</td>\n",
              "      <td>NOT</td>\n",
              "    </tr>\n",
              "  </tbody>\n",
              "</table>\n",
              "</div>\n",
              "    <div class=\"colab-df-buttons\">\n",
              "\n",
              "  <div class=\"colab-df-container\">\n",
              "    <button class=\"colab-df-convert\" onclick=\"convertToInteractive('df-7f7846f7-35b1-44bf-b000-c4cd29c9084e')\"\n",
              "            title=\"Convert this dataframe to an interactive table.\"\n",
              "            style=\"display:none;\">\n",
              "\n",
              "  <svg xmlns=\"http://www.w3.org/2000/svg\" height=\"24px\" viewBox=\"0 -960 960 960\">\n",
              "    <path d=\"M120-120v-720h720v720H120Zm60-500h600v-160H180v160Zm220 220h160v-160H400v160Zm0 220h160v-160H400v160ZM180-400h160v-160H180v160Zm440 0h160v-160H620v160ZM180-180h160v-160H180v160Zm440 0h160v-160H620v160Z\"/>\n",
              "  </svg>\n",
              "    </button>\n",
              "\n",
              "  <style>\n",
              "    .colab-df-container {\n",
              "      display:flex;\n",
              "      gap: 12px;\n",
              "    }\n",
              "\n",
              "    .colab-df-convert {\n",
              "      background-color: #E8F0FE;\n",
              "      border: none;\n",
              "      border-radius: 50%;\n",
              "      cursor: pointer;\n",
              "      display: none;\n",
              "      fill: #1967D2;\n",
              "      height: 32px;\n",
              "      padding: 0 0 0 0;\n",
              "      width: 32px;\n",
              "    }\n",
              "\n",
              "    .colab-df-convert:hover {\n",
              "      background-color: #E2EBFA;\n",
              "      box-shadow: 0px 1px 2px rgba(60, 64, 67, 0.3), 0px 1px 3px 1px rgba(60, 64, 67, 0.15);\n",
              "      fill: #174EA6;\n",
              "    }\n",
              "\n",
              "    .colab-df-buttons div {\n",
              "      margin-bottom: 4px;\n",
              "    }\n",
              "\n",
              "    [theme=dark] .colab-df-convert {\n",
              "      background-color: #3B4455;\n",
              "      fill: #D2E3FC;\n",
              "    }\n",
              "\n",
              "    [theme=dark] .colab-df-convert:hover {\n",
              "      background-color: #434B5C;\n",
              "      box-shadow: 0px 1px 3px 1px rgba(0, 0, 0, 0.15);\n",
              "      filter: drop-shadow(0px 1px 2px rgba(0, 0, 0, 0.3));\n",
              "      fill: #FFFFFF;\n",
              "    }\n",
              "  </style>\n",
              "\n",
              "    <script>\n",
              "      const buttonEl =\n",
              "        document.querySelector('#df-7f7846f7-35b1-44bf-b000-c4cd29c9084e button.colab-df-convert');\n",
              "      buttonEl.style.display =\n",
              "        google.colab.kernel.accessAllowed ? 'block' : 'none';\n",
              "\n",
              "      async function convertToInteractive(key) {\n",
              "        const element = document.querySelector('#df-7f7846f7-35b1-44bf-b000-c4cd29c9084e');\n",
              "        const dataTable =\n",
              "          await google.colab.kernel.invokeFunction('convertToInteractive',\n",
              "                                                    [key], {});\n",
              "        if (!dataTable) return;\n",
              "\n",
              "        const docLinkHtml = 'Like what you see? Visit the ' +\n",
              "          '<a target=\"_blank\" href=https://colab.research.google.com/notebooks/data_table.ipynb>data table notebook</a>'\n",
              "          + ' to learn more about interactive tables.';\n",
              "        element.innerHTML = '';\n",
              "        dataTable['output_type'] = 'display_data';\n",
              "        await google.colab.output.renderOutput(dataTable, element);\n",
              "        const docLink = document.createElement('div');\n",
              "        docLink.innerHTML = docLinkHtml;\n",
              "        element.appendChild(docLink);\n",
              "      }\n",
              "    </script>\n",
              "  </div>\n",
              "\n",
              "\n",
              "<div id=\"df-c39d9752-8f06-4bc4-9f75-f3fa7fc78f55\">\n",
              "  <button class=\"colab-df-quickchart\" onclick=\"quickchart('df-c39d9752-8f06-4bc4-9f75-f3fa7fc78f55')\"\n",
              "            title=\"Suggest charts\"\n",
              "            style=\"display:none;\">\n",
              "\n",
              "<svg xmlns=\"http://www.w3.org/2000/svg\" height=\"24px\"viewBox=\"0 0 24 24\"\n",
              "     width=\"24px\">\n",
              "    <g>\n",
              "        <path d=\"M19 3H5c-1.1 0-2 .9-2 2v14c0 1.1.9 2 2 2h14c1.1 0 2-.9 2-2V5c0-1.1-.9-2-2-2zM9 17H7v-7h2v7zm4 0h-2V7h2v10zm4 0h-2v-4h2v4z\"/>\n",
              "    </g>\n",
              "</svg>\n",
              "  </button>\n",
              "\n",
              "<style>\n",
              "  .colab-df-quickchart {\n",
              "      --bg-color: #E8F0FE;\n",
              "      --fill-color: #1967D2;\n",
              "      --hover-bg-color: #E2EBFA;\n",
              "      --hover-fill-color: #174EA6;\n",
              "      --disabled-fill-color: #AAA;\n",
              "      --disabled-bg-color: #DDD;\n",
              "  }\n",
              "\n",
              "  [theme=dark] .colab-df-quickchart {\n",
              "      --bg-color: #3B4455;\n",
              "      --fill-color: #D2E3FC;\n",
              "      --hover-bg-color: #434B5C;\n",
              "      --hover-fill-color: #FFFFFF;\n",
              "      --disabled-bg-color: #3B4455;\n",
              "      --disabled-fill-color: #666;\n",
              "  }\n",
              "\n",
              "  .colab-df-quickchart {\n",
              "    background-color: var(--bg-color);\n",
              "    border: none;\n",
              "    border-radius: 50%;\n",
              "    cursor: pointer;\n",
              "    display: none;\n",
              "    fill: var(--fill-color);\n",
              "    height: 32px;\n",
              "    padding: 0;\n",
              "    width: 32px;\n",
              "  }\n",
              "\n",
              "  .colab-df-quickchart:hover {\n",
              "    background-color: var(--hover-bg-color);\n",
              "    box-shadow: 0 1px 2px rgba(60, 64, 67, 0.3), 0 1px 3px 1px rgba(60, 64, 67, 0.15);\n",
              "    fill: var(--button-hover-fill-color);\n",
              "  }\n",
              "\n",
              "  .colab-df-quickchart-complete:disabled,\n",
              "  .colab-df-quickchart-complete:disabled:hover {\n",
              "    background-color: var(--disabled-bg-color);\n",
              "    fill: var(--disabled-fill-color);\n",
              "    box-shadow: none;\n",
              "  }\n",
              "\n",
              "  .colab-df-spinner {\n",
              "    border: 2px solid var(--fill-color);\n",
              "    border-color: transparent;\n",
              "    border-bottom-color: var(--fill-color);\n",
              "    animation:\n",
              "      spin 1s steps(1) infinite;\n",
              "  }\n",
              "\n",
              "  @keyframes spin {\n",
              "    0% {\n",
              "      border-color: transparent;\n",
              "      border-bottom-color: var(--fill-color);\n",
              "      border-left-color: var(--fill-color);\n",
              "    }\n",
              "    20% {\n",
              "      border-color: transparent;\n",
              "      border-left-color: var(--fill-color);\n",
              "      border-top-color: var(--fill-color);\n",
              "    }\n",
              "    30% {\n",
              "      border-color: transparent;\n",
              "      border-left-color: var(--fill-color);\n",
              "      border-top-color: var(--fill-color);\n",
              "      border-right-color: var(--fill-color);\n",
              "    }\n",
              "    40% {\n",
              "      border-color: transparent;\n",
              "      border-right-color: var(--fill-color);\n",
              "      border-top-color: var(--fill-color);\n",
              "    }\n",
              "    60% {\n",
              "      border-color: transparent;\n",
              "      border-right-color: var(--fill-color);\n",
              "    }\n",
              "    80% {\n",
              "      border-color: transparent;\n",
              "      border-right-color: var(--fill-color);\n",
              "      border-bottom-color: var(--fill-color);\n",
              "    }\n",
              "    90% {\n",
              "      border-color: transparent;\n",
              "      border-bottom-color: var(--fill-color);\n",
              "    }\n",
              "  }\n",
              "</style>\n",
              "\n",
              "  <script>\n",
              "    async function quickchart(key) {\n",
              "      const quickchartButtonEl =\n",
              "        document.querySelector('#' + key + ' button');\n",
              "      quickchartButtonEl.disabled = true;  // To prevent multiple clicks.\n",
              "      quickchartButtonEl.classList.add('colab-df-spinner');\n",
              "      try {\n",
              "        const charts = await google.colab.kernel.invokeFunction(\n",
              "            'suggestCharts', [key], {});\n",
              "      } catch (error) {\n",
              "        console.error('Error during call to suggestCharts:', error);\n",
              "      }\n",
              "      quickchartButtonEl.classList.remove('colab-df-spinner');\n",
              "      quickchartButtonEl.classList.add('colab-df-quickchart-complete');\n",
              "    }\n",
              "    (() => {\n",
              "      let quickchartButtonEl =\n",
              "        document.querySelector('#df-c39d9752-8f06-4bc4-9f75-f3fa7fc78f55 button');\n",
              "      quickchartButtonEl.style.display =\n",
              "        google.colab.kernel.accessAllowed ? 'block' : 'none';\n",
              "    })();\n",
              "  </script>\n",
              "</div>\n",
              "    </div>\n",
              "  </div>\n"
            ]
          },
          "metadata": {},
          "execution_count": 14
        }
      ]
    },
    {
      "cell_type": "code",
      "source": [
        "test_1.head()"
      ],
      "metadata": {
        "colab": {
          "base_uri": "https://localhost:8080/",
          "height": 206
        },
        "id": "pz4--5QM_oyZ",
        "outputId": "07a7b299-593c-4d98-d71b-065fe0c24257"
      },
      "execution_count": null,
      "outputs": [
        {
          "output_type": "execute_result",
          "data": {
            "text/plain": [
              "                post_id                                               text  \\\n",
              "3   1397219745707986955  හොඳ මිතුරියක් කතා කලා විස්තර කතාකරමින් ඉදලා දව...   \n",
              "7    715019979393863681              අඩො බර්ත්ඩේ එක දවසේ පු* පලාගන්න ආසද :   \n",
              "32  1137378811098484736  ෆෝන් එක ඔබ ඔබා ඉන්නෙ නැති එකක් දැක්කමද මංදා ඒක...   \n",
              "35  1164509759682351104  පුක කියන්නෙත් හොද මාර්කටින් ස්ට්‍රැජික් එකක් තමයි   \n",
              "38  1089761108985069569  ඩාලින් මම ඔයාටත් ෆේස් ස්ක්‍රබ් එකක් අරම් දෙන්න...   \n",
              "\n",
              "   label  \n",
              "3    HOF  \n",
              "7    HOF  \n",
              "32   NOT  \n",
              "35   HOF  \n",
              "38   NOT  "
            ],
            "text/html": [
              "\n",
              "  <div id=\"df-b45e2907-080e-437c-b69b-4d97e2d0a626\" class=\"colab-df-container\">\n",
              "    <div>\n",
              "<style scoped>\n",
              "    .dataframe tbody tr th:only-of-type {\n",
              "        vertical-align: middle;\n",
              "    }\n",
              "\n",
              "    .dataframe tbody tr th {\n",
              "        vertical-align: top;\n",
              "    }\n",
              "\n",
              "    .dataframe thead th {\n",
              "        text-align: right;\n",
              "    }\n",
              "</style>\n",
              "<table border=\"1\" class=\"dataframe\">\n",
              "  <thead>\n",
              "    <tr style=\"text-align: right;\">\n",
              "      <th></th>\n",
              "      <th>post_id</th>\n",
              "      <th>text</th>\n",
              "      <th>label</th>\n",
              "    </tr>\n",
              "  </thead>\n",
              "  <tbody>\n",
              "    <tr>\n",
              "      <th>3</th>\n",
              "      <td>1397219745707986955</td>\n",
              "      <td>හොඳ මිතුරියක් කතා කලා විස්තර කතාකරමින් ඉදලා දව...</td>\n",
              "      <td>HOF</td>\n",
              "    </tr>\n",
              "    <tr>\n",
              "      <th>7</th>\n",
              "      <td>715019979393863681</td>\n",
              "      <td>අඩො බර්ත්ඩේ එක දවසේ පු* පලාගන්න ආසද :</td>\n",
              "      <td>HOF</td>\n",
              "    </tr>\n",
              "    <tr>\n",
              "      <th>32</th>\n",
              "      <td>1137378811098484736</td>\n",
              "      <td>ෆෝන් එක ඔබ ඔබා ඉන්නෙ නැති එකක් දැක්කමද මංදා ඒක...</td>\n",
              "      <td>NOT</td>\n",
              "    </tr>\n",
              "    <tr>\n",
              "      <th>35</th>\n",
              "      <td>1164509759682351104</td>\n",
              "      <td>පුක කියන්නෙත් හොද මාර්කටින් ස්ට්‍රැජික් එකක් තමයි</td>\n",
              "      <td>HOF</td>\n",
              "    </tr>\n",
              "    <tr>\n",
              "      <th>38</th>\n",
              "      <td>1089761108985069569</td>\n",
              "      <td>ඩාලින් මම ඔයාටත් ෆේස් ස්ක්‍රබ් එකක් අරම් දෙන්න...</td>\n",
              "      <td>NOT</td>\n",
              "    </tr>\n",
              "  </tbody>\n",
              "</table>\n",
              "</div>\n",
              "    <div class=\"colab-df-buttons\">\n",
              "\n",
              "  <div class=\"colab-df-container\">\n",
              "    <button class=\"colab-df-convert\" onclick=\"convertToInteractive('df-b45e2907-080e-437c-b69b-4d97e2d0a626')\"\n",
              "            title=\"Convert this dataframe to an interactive table.\"\n",
              "            style=\"display:none;\">\n",
              "\n",
              "  <svg xmlns=\"http://www.w3.org/2000/svg\" height=\"24px\" viewBox=\"0 -960 960 960\">\n",
              "    <path d=\"M120-120v-720h720v720H120Zm60-500h600v-160H180v160Zm220 220h160v-160H400v160Zm0 220h160v-160H400v160ZM180-400h160v-160H180v160Zm440 0h160v-160H620v160ZM180-180h160v-160H180v160Zm440 0h160v-160H620v160Z\"/>\n",
              "  </svg>\n",
              "    </button>\n",
              "\n",
              "  <style>\n",
              "    .colab-df-container {\n",
              "      display:flex;\n",
              "      gap: 12px;\n",
              "    }\n",
              "\n",
              "    .colab-df-convert {\n",
              "      background-color: #E8F0FE;\n",
              "      border: none;\n",
              "      border-radius: 50%;\n",
              "      cursor: pointer;\n",
              "      display: none;\n",
              "      fill: #1967D2;\n",
              "      height: 32px;\n",
              "      padding: 0 0 0 0;\n",
              "      width: 32px;\n",
              "    }\n",
              "\n",
              "    .colab-df-convert:hover {\n",
              "      background-color: #E2EBFA;\n",
              "      box-shadow: 0px 1px 2px rgba(60, 64, 67, 0.3), 0px 1px 3px 1px rgba(60, 64, 67, 0.15);\n",
              "      fill: #174EA6;\n",
              "    }\n",
              "\n",
              "    .colab-df-buttons div {\n",
              "      margin-bottom: 4px;\n",
              "    }\n",
              "\n",
              "    [theme=dark] .colab-df-convert {\n",
              "      background-color: #3B4455;\n",
              "      fill: #D2E3FC;\n",
              "    }\n",
              "\n",
              "    [theme=dark] .colab-df-convert:hover {\n",
              "      background-color: #434B5C;\n",
              "      box-shadow: 0px 1px 3px 1px rgba(0, 0, 0, 0.15);\n",
              "      filter: drop-shadow(0px 1px 2px rgba(0, 0, 0, 0.3));\n",
              "      fill: #FFFFFF;\n",
              "    }\n",
              "  </style>\n",
              "\n",
              "    <script>\n",
              "      const buttonEl =\n",
              "        document.querySelector('#df-b45e2907-080e-437c-b69b-4d97e2d0a626 button.colab-df-convert');\n",
              "      buttonEl.style.display =\n",
              "        google.colab.kernel.accessAllowed ? 'block' : 'none';\n",
              "\n",
              "      async function convertToInteractive(key) {\n",
              "        const element = document.querySelector('#df-b45e2907-080e-437c-b69b-4d97e2d0a626');\n",
              "        const dataTable =\n",
              "          await google.colab.kernel.invokeFunction('convertToInteractive',\n",
              "                                                    [key], {});\n",
              "        if (!dataTable) return;\n",
              "\n",
              "        const docLinkHtml = 'Like what you see? Visit the ' +\n",
              "          '<a target=\"_blank\" href=https://colab.research.google.com/notebooks/data_table.ipynb>data table notebook</a>'\n",
              "          + ' to learn more about interactive tables.';\n",
              "        element.innerHTML = '';\n",
              "        dataTable['output_type'] = 'display_data';\n",
              "        await google.colab.output.renderOutput(dataTable, element);\n",
              "        const docLink = document.createElement('div');\n",
              "        docLink.innerHTML = docLinkHtml;\n",
              "        element.appendChild(docLink);\n",
              "      }\n",
              "    </script>\n",
              "  </div>\n",
              "\n",
              "\n",
              "<div id=\"df-a828bec7-164f-478d-b4fc-775aeabb6c5a\">\n",
              "  <button class=\"colab-df-quickchart\" onclick=\"quickchart('df-a828bec7-164f-478d-b4fc-775aeabb6c5a')\"\n",
              "            title=\"Suggest charts\"\n",
              "            style=\"display:none;\">\n",
              "\n",
              "<svg xmlns=\"http://www.w3.org/2000/svg\" height=\"24px\"viewBox=\"0 0 24 24\"\n",
              "     width=\"24px\">\n",
              "    <g>\n",
              "        <path d=\"M19 3H5c-1.1 0-2 .9-2 2v14c0 1.1.9 2 2 2h14c1.1 0 2-.9 2-2V5c0-1.1-.9-2-2-2zM9 17H7v-7h2v7zm4 0h-2V7h2v10zm4 0h-2v-4h2v4z\"/>\n",
              "    </g>\n",
              "</svg>\n",
              "  </button>\n",
              "\n",
              "<style>\n",
              "  .colab-df-quickchart {\n",
              "      --bg-color: #E8F0FE;\n",
              "      --fill-color: #1967D2;\n",
              "      --hover-bg-color: #E2EBFA;\n",
              "      --hover-fill-color: #174EA6;\n",
              "      --disabled-fill-color: #AAA;\n",
              "      --disabled-bg-color: #DDD;\n",
              "  }\n",
              "\n",
              "  [theme=dark] .colab-df-quickchart {\n",
              "      --bg-color: #3B4455;\n",
              "      --fill-color: #D2E3FC;\n",
              "      --hover-bg-color: #434B5C;\n",
              "      --hover-fill-color: #FFFFFF;\n",
              "      --disabled-bg-color: #3B4455;\n",
              "      --disabled-fill-color: #666;\n",
              "  }\n",
              "\n",
              "  .colab-df-quickchart {\n",
              "    background-color: var(--bg-color);\n",
              "    border: none;\n",
              "    border-radius: 50%;\n",
              "    cursor: pointer;\n",
              "    display: none;\n",
              "    fill: var(--fill-color);\n",
              "    height: 32px;\n",
              "    padding: 0;\n",
              "    width: 32px;\n",
              "  }\n",
              "\n",
              "  .colab-df-quickchart:hover {\n",
              "    background-color: var(--hover-bg-color);\n",
              "    box-shadow: 0 1px 2px rgba(60, 64, 67, 0.3), 0 1px 3px 1px rgba(60, 64, 67, 0.15);\n",
              "    fill: var(--button-hover-fill-color);\n",
              "  }\n",
              "\n",
              "  .colab-df-quickchart-complete:disabled,\n",
              "  .colab-df-quickchart-complete:disabled:hover {\n",
              "    background-color: var(--disabled-bg-color);\n",
              "    fill: var(--disabled-fill-color);\n",
              "    box-shadow: none;\n",
              "  }\n",
              "\n",
              "  .colab-df-spinner {\n",
              "    border: 2px solid var(--fill-color);\n",
              "    border-color: transparent;\n",
              "    border-bottom-color: var(--fill-color);\n",
              "    animation:\n",
              "      spin 1s steps(1) infinite;\n",
              "  }\n",
              "\n",
              "  @keyframes spin {\n",
              "    0% {\n",
              "      border-color: transparent;\n",
              "      border-bottom-color: var(--fill-color);\n",
              "      border-left-color: var(--fill-color);\n",
              "    }\n",
              "    20% {\n",
              "      border-color: transparent;\n",
              "      border-left-color: var(--fill-color);\n",
              "      border-top-color: var(--fill-color);\n",
              "    }\n",
              "    30% {\n",
              "      border-color: transparent;\n",
              "      border-left-color: var(--fill-color);\n",
              "      border-top-color: var(--fill-color);\n",
              "      border-right-color: var(--fill-color);\n",
              "    }\n",
              "    40% {\n",
              "      border-color: transparent;\n",
              "      border-right-color: var(--fill-color);\n",
              "      border-top-color: var(--fill-color);\n",
              "    }\n",
              "    60% {\n",
              "      border-color: transparent;\n",
              "      border-right-color: var(--fill-color);\n",
              "    }\n",
              "    80% {\n",
              "      border-color: transparent;\n",
              "      border-right-color: var(--fill-color);\n",
              "      border-bottom-color: var(--fill-color);\n",
              "    }\n",
              "    90% {\n",
              "      border-color: transparent;\n",
              "      border-bottom-color: var(--fill-color);\n",
              "    }\n",
              "  }\n",
              "</style>\n",
              "\n",
              "  <script>\n",
              "    async function quickchart(key) {\n",
              "      const quickchartButtonEl =\n",
              "        document.querySelector('#' + key + ' button');\n",
              "      quickchartButtonEl.disabled = true;  // To prevent multiple clicks.\n",
              "      quickchartButtonEl.classList.add('colab-df-spinner');\n",
              "      try {\n",
              "        const charts = await google.colab.kernel.invokeFunction(\n",
              "            'suggestCharts', [key], {});\n",
              "      } catch (error) {\n",
              "        console.error('Error during call to suggestCharts:', error);\n",
              "      }\n",
              "      quickchartButtonEl.classList.remove('colab-df-spinner');\n",
              "      quickchartButtonEl.classList.add('colab-df-quickchart-complete');\n",
              "    }\n",
              "    (() => {\n",
              "      let quickchartButtonEl =\n",
              "        document.querySelector('#df-a828bec7-164f-478d-b4fc-775aeabb6c5a button');\n",
              "      quickchartButtonEl.style.display =\n",
              "        google.colab.kernel.accessAllowed ? 'block' : 'none';\n",
              "    })();\n",
              "  </script>\n",
              "</div>\n",
              "    </div>\n",
              "  </div>\n"
            ]
          },
          "metadata": {},
          "execution_count": 15
        }
      ]
    },
    {
      "cell_type": "code",
      "source": [
        "from collections import defaultdict as ddict\n",
        "import csv\n",
        "label_dict1 = {\n",
        "    'NOT':0,\n",
        "    'HOF':1\n",
        "}"
      ],
      "metadata": {
        "id": "-yEDQXAIvJyj"
      },
      "execution_count": null,
      "outputs": []
    },
    {
      "cell_type": "code",
      "source": [
        "def load_dataset(df=\"train_1.csv\"):\n",
        "  lines = []\n",
        "  with open(df, \"r\") as f:\n",
        "    reader = csv.reader(f)\n",
        "    for line in reader:\n",
        "      lines.append(line)\n",
        "    tweet=[]\n",
        "    label1 =[]\n",
        "    dic_data = ddict(list)\n",
        "    for (i,line) in enumerate(lines):\n",
        "      if i==0:\n",
        "        continue\n",
        "\n",
        "      _tweet = line[1]\n",
        "      _label1 = line[2]\n",
        "\n",
        "      tweet.append(_tweet)\n",
        "      label1.append(label_dict1[_label1])\n",
        "    label_list1 = [\"HOF\", \"NOT\"]\n",
        "    dic_data['tweet']=tweet\n",
        "    dic_data['label1']=label1\n",
        "    return dic_data,label_list1"
      ],
      "metadata": {
        "id": "erMkP9t0XpcY"
      },
      "execution_count": null,
      "outputs": []
    },
    {
      "cell_type": "code",
      "source": [
        "train_d, label_list1= load_dataset()\n",
        "print(train_d['label1'][:5])"
      ],
      "metadata": {
        "colab": {
          "base_uri": "https://localhost:8080/"
        },
        "id": "oS1mUkojX_lH",
        "outputId": "77db1b89-b9b5-4bbb-e4f4-0474beb5de55"
      },
      "execution_count": null,
      "outputs": [
        {
          "output_type": "stream",
          "name": "stdout",
          "text": [
            "[0, 0, 0, 1, 0]\n"
          ]
        }
      ]
    },
    {
      "cell_type": "code",
      "source": [
        "train_d['label1'][:5]"
      ],
      "metadata": {
        "id": "c0ToDcayi0hD",
        "colab": {
          "base_uri": "https://localhost:8080/"
        },
        "outputId": "922f7c51-d701-4159-f166-2b3f7c8663a9"
      },
      "execution_count": null,
      "outputs": [
        {
          "output_type": "execute_result",
          "data": {
            "text/plain": [
              "[0, 0, 0, 1, 0]"
            ]
          },
          "metadata": {},
          "execution_count": 19
        }
      ]
    },
    {
      "cell_type": "code",
      "source": [
        "data = pd.DataFrame(\n",
        "    {\n",
        "        'X' : train_d['tweet'],\n",
        "        'Y' : train_d['label1']\n",
        "    }\n",
        ")"
      ],
      "metadata": {
        "id": "dIjwyN_AjNBW"
      },
      "execution_count": null,
      "outputs": []
    },
    {
      "cell_type": "code",
      "source": [
        "data"
      ],
      "metadata": {
        "colab": {
          "base_uri": "https://localhost:8080/",
          "height": 424
        },
        "id": "b_FZkxjyAqo3",
        "outputId": "d2bca296-4b81-4b4e-f259-da51175b2bff"
      },
      "execution_count": null,
      "outputs": [
        {
          "output_type": "execute_result",
          "data": {
            "text/plain": [
              "                                                      X  Y\n",
              "0                                  ටහුඩු මම වෝට් කරන්නේ  0\n",
              "1     බැට් එකට වදින බෝලයක් බෝලයක් ගානේ පපුවෙ අමාරු හ...  0\n",
              "2                      යකෝ මගේ බඩුවක් ගන්න ගියා වගේනෙ !  0\n",
              "3     බැන්දොත් බඳින්නෙ ඩේසිය වගේ නාකිවෙන්න වෙන්න කෑල...  1\n",
              "4                ඔබතුමා පාලනය අතට ගන්න අපට ඔබ විශ්වාසයි  0\n",
              "...                                                 ... ..\n",
              "5995  නෙදකින් ගොනාගෙ කට ඉරියන් දවසින් දවස බෙල්ලෙ ගොම...  0\n",
              "5996  ඒක තැබිලි ගහක්දපොල් ගහක්ද මොනවද අයිසෙ ඔය බලන්න...  0\n",
              "5997  පුදුම කාලකන්නි ටිකක් ඵනම් උන්ගෙ හිතෙ හමුදාව කි...  0\n",
              "5998  නැනේ අඩේ උඹට මතක ද? මම එනකං ඉන්නකොට තෝ ඇවිත් ඇ...  0\n",
              "5999  මෙහෙන්දි ආර්ට් එකකුත් දාගත්තා! නිදහස් ජීවිතෙන්...  0\n",
              "\n",
              "[6000 rows x 2 columns]"
            ],
            "text/html": [
              "\n",
              "  <div id=\"df-52359146-56d7-4da6-be4d-5586be5dedfc\" class=\"colab-df-container\">\n",
              "    <div>\n",
              "<style scoped>\n",
              "    .dataframe tbody tr th:only-of-type {\n",
              "        vertical-align: middle;\n",
              "    }\n",
              "\n",
              "    .dataframe tbody tr th {\n",
              "        vertical-align: top;\n",
              "    }\n",
              "\n",
              "    .dataframe thead th {\n",
              "        text-align: right;\n",
              "    }\n",
              "</style>\n",
              "<table border=\"1\" class=\"dataframe\">\n",
              "  <thead>\n",
              "    <tr style=\"text-align: right;\">\n",
              "      <th></th>\n",
              "      <th>X</th>\n",
              "      <th>Y</th>\n",
              "    </tr>\n",
              "  </thead>\n",
              "  <tbody>\n",
              "    <tr>\n",
              "      <th>0</th>\n",
              "      <td>ටහුඩු මම වෝට් කරන්නේ</td>\n",
              "      <td>0</td>\n",
              "    </tr>\n",
              "    <tr>\n",
              "      <th>1</th>\n",
              "      <td>බැට් එකට වදින බෝලයක් බෝලයක් ගානේ පපුවෙ අමාරු හ...</td>\n",
              "      <td>0</td>\n",
              "    </tr>\n",
              "    <tr>\n",
              "      <th>2</th>\n",
              "      <td>යකෝ මගේ බඩුවක් ගන්න ගියා වගේනෙ !</td>\n",
              "      <td>0</td>\n",
              "    </tr>\n",
              "    <tr>\n",
              "      <th>3</th>\n",
              "      <td>බැන්දොත් බඳින්නෙ ඩේසිය වගේ නාකිවෙන්න වෙන්න කෑල...</td>\n",
              "      <td>1</td>\n",
              "    </tr>\n",
              "    <tr>\n",
              "      <th>4</th>\n",
              "      <td>ඔබතුමා පාලනය අතට ගන්න අපට ඔබ විශ්වාසයි</td>\n",
              "      <td>0</td>\n",
              "    </tr>\n",
              "    <tr>\n",
              "      <th>...</th>\n",
              "      <td>...</td>\n",
              "      <td>...</td>\n",
              "    </tr>\n",
              "    <tr>\n",
              "      <th>5995</th>\n",
              "      <td>නෙදකින් ගොනාගෙ කට ඉරියන් දවසින් දවස බෙල්ලෙ ගොම...</td>\n",
              "      <td>0</td>\n",
              "    </tr>\n",
              "    <tr>\n",
              "      <th>5996</th>\n",
              "      <td>ඒක තැබිලි ගහක්දපොල් ගහක්ද මොනවද අයිසෙ ඔය බලන්න...</td>\n",
              "      <td>0</td>\n",
              "    </tr>\n",
              "    <tr>\n",
              "      <th>5997</th>\n",
              "      <td>පුදුම කාලකන්නි ටිකක් ඵනම් උන්ගෙ හිතෙ හමුදාව කි...</td>\n",
              "      <td>0</td>\n",
              "    </tr>\n",
              "    <tr>\n",
              "      <th>5998</th>\n",
              "      <td>නැනේ අඩේ උඹට මතක ද? මම එනකං ඉන්නකොට තෝ ඇවිත් ඇ...</td>\n",
              "      <td>0</td>\n",
              "    </tr>\n",
              "    <tr>\n",
              "      <th>5999</th>\n",
              "      <td>මෙහෙන්දි ආර්ට් එකකුත් දාගත්තා! නිදහස් ජීවිතෙන්...</td>\n",
              "      <td>0</td>\n",
              "    </tr>\n",
              "  </tbody>\n",
              "</table>\n",
              "<p>6000 rows × 2 columns</p>\n",
              "</div>\n",
              "    <div class=\"colab-df-buttons\">\n",
              "\n",
              "  <div class=\"colab-df-container\">\n",
              "    <button class=\"colab-df-convert\" onclick=\"convertToInteractive('df-52359146-56d7-4da6-be4d-5586be5dedfc')\"\n",
              "            title=\"Convert this dataframe to an interactive table.\"\n",
              "            style=\"display:none;\">\n",
              "\n",
              "  <svg xmlns=\"http://www.w3.org/2000/svg\" height=\"24px\" viewBox=\"0 -960 960 960\">\n",
              "    <path d=\"M120-120v-720h720v720H120Zm60-500h600v-160H180v160Zm220 220h160v-160H400v160Zm0 220h160v-160H400v160ZM180-400h160v-160H180v160Zm440 0h160v-160H620v160ZM180-180h160v-160H180v160Zm440 0h160v-160H620v160Z\"/>\n",
              "  </svg>\n",
              "    </button>\n",
              "\n",
              "  <style>\n",
              "    .colab-df-container {\n",
              "      display:flex;\n",
              "      gap: 12px;\n",
              "    }\n",
              "\n",
              "    .colab-df-convert {\n",
              "      background-color: #E8F0FE;\n",
              "      border: none;\n",
              "      border-radius: 50%;\n",
              "      cursor: pointer;\n",
              "      display: none;\n",
              "      fill: #1967D2;\n",
              "      height: 32px;\n",
              "      padding: 0 0 0 0;\n",
              "      width: 32px;\n",
              "    }\n",
              "\n",
              "    .colab-df-convert:hover {\n",
              "      background-color: #E2EBFA;\n",
              "      box-shadow: 0px 1px 2px rgba(60, 64, 67, 0.3), 0px 1px 3px 1px rgba(60, 64, 67, 0.15);\n",
              "      fill: #174EA6;\n",
              "    }\n",
              "\n",
              "    .colab-df-buttons div {\n",
              "      margin-bottom: 4px;\n",
              "    }\n",
              "\n",
              "    [theme=dark] .colab-df-convert {\n",
              "      background-color: #3B4455;\n",
              "      fill: #D2E3FC;\n",
              "    }\n",
              "\n",
              "    [theme=dark] .colab-df-convert:hover {\n",
              "      background-color: #434B5C;\n",
              "      box-shadow: 0px 1px 3px 1px rgba(0, 0, 0, 0.15);\n",
              "      filter: drop-shadow(0px 1px 2px rgba(0, 0, 0, 0.3));\n",
              "      fill: #FFFFFF;\n",
              "    }\n",
              "  </style>\n",
              "\n",
              "    <script>\n",
              "      const buttonEl =\n",
              "        document.querySelector('#df-52359146-56d7-4da6-be4d-5586be5dedfc button.colab-df-convert');\n",
              "      buttonEl.style.display =\n",
              "        google.colab.kernel.accessAllowed ? 'block' : 'none';\n",
              "\n",
              "      async function convertToInteractive(key) {\n",
              "        const element = document.querySelector('#df-52359146-56d7-4da6-be4d-5586be5dedfc');\n",
              "        const dataTable =\n",
              "          await google.colab.kernel.invokeFunction('convertToInteractive',\n",
              "                                                    [key], {});\n",
              "        if (!dataTable) return;\n",
              "\n",
              "        const docLinkHtml = 'Like what you see? Visit the ' +\n",
              "          '<a target=\"_blank\" href=https://colab.research.google.com/notebooks/data_table.ipynb>data table notebook</a>'\n",
              "          + ' to learn more about interactive tables.';\n",
              "        element.innerHTML = '';\n",
              "        dataTable['output_type'] = 'display_data';\n",
              "        await google.colab.output.renderOutput(dataTable, element);\n",
              "        const docLink = document.createElement('div');\n",
              "        docLink.innerHTML = docLinkHtml;\n",
              "        element.appendChild(docLink);\n",
              "      }\n",
              "    </script>\n",
              "  </div>\n",
              "\n",
              "\n",
              "<div id=\"df-3cbd7cb8-e06e-4cc2-8c9c-89ab1ce7ce95\">\n",
              "  <button class=\"colab-df-quickchart\" onclick=\"quickchart('df-3cbd7cb8-e06e-4cc2-8c9c-89ab1ce7ce95')\"\n",
              "            title=\"Suggest charts\"\n",
              "            style=\"display:none;\">\n",
              "\n",
              "<svg xmlns=\"http://www.w3.org/2000/svg\" height=\"24px\"viewBox=\"0 0 24 24\"\n",
              "     width=\"24px\">\n",
              "    <g>\n",
              "        <path d=\"M19 3H5c-1.1 0-2 .9-2 2v14c0 1.1.9 2 2 2h14c1.1 0 2-.9 2-2V5c0-1.1-.9-2-2-2zM9 17H7v-7h2v7zm4 0h-2V7h2v10zm4 0h-2v-4h2v4z\"/>\n",
              "    </g>\n",
              "</svg>\n",
              "  </button>\n",
              "\n",
              "<style>\n",
              "  .colab-df-quickchart {\n",
              "      --bg-color: #E8F0FE;\n",
              "      --fill-color: #1967D2;\n",
              "      --hover-bg-color: #E2EBFA;\n",
              "      --hover-fill-color: #174EA6;\n",
              "      --disabled-fill-color: #AAA;\n",
              "      --disabled-bg-color: #DDD;\n",
              "  }\n",
              "\n",
              "  [theme=dark] .colab-df-quickchart {\n",
              "      --bg-color: #3B4455;\n",
              "      --fill-color: #D2E3FC;\n",
              "      --hover-bg-color: #434B5C;\n",
              "      --hover-fill-color: #FFFFFF;\n",
              "      --disabled-bg-color: #3B4455;\n",
              "      --disabled-fill-color: #666;\n",
              "  }\n",
              "\n",
              "  .colab-df-quickchart {\n",
              "    background-color: var(--bg-color);\n",
              "    border: none;\n",
              "    border-radius: 50%;\n",
              "    cursor: pointer;\n",
              "    display: none;\n",
              "    fill: var(--fill-color);\n",
              "    height: 32px;\n",
              "    padding: 0;\n",
              "    width: 32px;\n",
              "  }\n",
              "\n",
              "  .colab-df-quickchart:hover {\n",
              "    background-color: var(--hover-bg-color);\n",
              "    box-shadow: 0 1px 2px rgba(60, 64, 67, 0.3), 0 1px 3px 1px rgba(60, 64, 67, 0.15);\n",
              "    fill: var(--button-hover-fill-color);\n",
              "  }\n",
              "\n",
              "  .colab-df-quickchart-complete:disabled,\n",
              "  .colab-df-quickchart-complete:disabled:hover {\n",
              "    background-color: var(--disabled-bg-color);\n",
              "    fill: var(--disabled-fill-color);\n",
              "    box-shadow: none;\n",
              "  }\n",
              "\n",
              "  .colab-df-spinner {\n",
              "    border: 2px solid var(--fill-color);\n",
              "    border-color: transparent;\n",
              "    border-bottom-color: var(--fill-color);\n",
              "    animation:\n",
              "      spin 1s steps(1) infinite;\n",
              "  }\n",
              "\n",
              "  @keyframes spin {\n",
              "    0% {\n",
              "      border-color: transparent;\n",
              "      border-bottom-color: var(--fill-color);\n",
              "      border-left-color: var(--fill-color);\n",
              "    }\n",
              "    20% {\n",
              "      border-color: transparent;\n",
              "      border-left-color: var(--fill-color);\n",
              "      border-top-color: var(--fill-color);\n",
              "    }\n",
              "    30% {\n",
              "      border-color: transparent;\n",
              "      border-left-color: var(--fill-color);\n",
              "      border-top-color: var(--fill-color);\n",
              "      border-right-color: var(--fill-color);\n",
              "    }\n",
              "    40% {\n",
              "      border-color: transparent;\n",
              "      border-right-color: var(--fill-color);\n",
              "      border-top-color: var(--fill-color);\n",
              "    }\n",
              "    60% {\n",
              "      border-color: transparent;\n",
              "      border-right-color: var(--fill-color);\n",
              "    }\n",
              "    80% {\n",
              "      border-color: transparent;\n",
              "      border-right-color: var(--fill-color);\n",
              "      border-bottom-color: var(--fill-color);\n",
              "    }\n",
              "    90% {\n",
              "      border-color: transparent;\n",
              "      border-bottom-color: var(--fill-color);\n",
              "    }\n",
              "  }\n",
              "</style>\n",
              "\n",
              "  <script>\n",
              "    async function quickchart(key) {\n",
              "      const quickchartButtonEl =\n",
              "        document.querySelector('#' + key + ' button');\n",
              "      quickchartButtonEl.disabled = true;  // To prevent multiple clicks.\n",
              "      quickchartButtonEl.classList.add('colab-df-spinner');\n",
              "      try {\n",
              "        const charts = await google.colab.kernel.invokeFunction(\n",
              "            'suggestCharts', [key], {});\n",
              "      } catch (error) {\n",
              "        console.error('Error during call to suggestCharts:', error);\n",
              "      }\n",
              "      quickchartButtonEl.classList.remove('colab-df-spinner');\n",
              "      quickchartButtonEl.classList.add('colab-df-quickchart-complete');\n",
              "    }\n",
              "    (() => {\n",
              "      let quickchartButtonEl =\n",
              "        document.querySelector('#df-3cbd7cb8-e06e-4cc2-8c9c-89ab1ce7ce95 button');\n",
              "      quickchartButtonEl.style.display =\n",
              "        google.colab.kernel.accessAllowed ? 'block' : 'none';\n",
              "    })();\n",
              "  </script>\n",
              "</div>\n",
              "    </div>\n",
              "  </div>\n"
            ]
          },
          "metadata": {},
          "execution_count": 21
        }
      ]
    },
    {
      "cell_type": "code",
      "source": [
        "import numpy as np\n",
        "from tensorflow.keras.preprocessing.text import Tokenizer\n",
        "from tensorflow.keras.preprocessing.sequence import pad_sequences\n",
        "from tensorflow.keras.models import Sequential\n",
        "from tensorflow.keras.layers import Embedding, LSTM, Dense"
      ],
      "metadata": {
        "id": "ILa5kXAvAsZS"
      },
      "execution_count": null,
      "outputs": []
    },
    {
      "cell_type": "code",
      "source": [
        "texts = data['X'].tolist()\n",
        "labels = data['Y'].tolist()"
      ],
      "metadata": {
        "id": "-LGGxYkTBADu"
      },
      "execution_count": null,
      "outputs": []
    },
    {
      "cell_type": "code",
      "source": [
        "tokenizer = Tokenizer(num_words=10000)\n",
        "tokenizer.fit_on_texts(texts)\n",
        "sequences = tokenizer.texts_to_sequences(texts)"
      ],
      "metadata": {
        "id": "7DafS-8ABKT8"
      },
      "execution_count": null,
      "outputs": []
    },
    {
      "cell_type": "code",
      "source": [
        "max_sequence_length = max(len(seq) for seq in sequences)\n",
        "padded_sequences = pad_sequences(sequences, maxlen=max_sequence_length)"
      ],
      "metadata": {
        "id": "yfbLXybhBOwQ"
      },
      "execution_count": null,
      "outputs": []
    },
    {
      "cell_type": "code",
      "source": [
        "labels = np.array(labels)"
      ],
      "metadata": {
        "id": "R2YhE4QZBQRp"
      },
      "execution_count": null,
      "outputs": []
    },
    {
      "cell_type": "code",
      "source": [
        "model = Sequential()\n",
        "model.add(Embedding(input_dim=10000, output_dim=128, input_length=max_sequence_length))\n",
        "model.add(LSTM(units=256, dropout=0.2, recurrent_dropout=0.2))\n",
        "model.add(Dense(units=1, activation='sigmoid'))\n",
        "model.compile(loss='binary_crossentropy', optimizer='adam', metrics=['accuracy'])\n",
        "\n",
        "# Print the model architecture summary\n",
        "model.summary()"
      ],
      "metadata": {
        "colab": {
          "base_uri": "https://localhost:8080/"
        },
        "id": "L63NRugZBVSM",
        "outputId": "58533102-5876-4b63-e6b9-b9eb9e92c808"
      },
      "execution_count": null,
      "outputs": [
        {
          "output_type": "stream",
          "name": "stderr",
          "text": [
            "WARNING:tensorflow:Layer lstm will not use cuDNN kernels since it doesn't meet the criteria. It will use a generic GPU kernel as fallback when running on GPU.\n"
          ]
        },
        {
          "output_type": "stream",
          "name": "stdout",
          "text": [
            "Model: \"sequential\"\n",
            "_________________________________________________________________\n",
            " Layer (type)                Output Shape              Param #   \n",
            "=================================================================\n",
            " embedding (Embedding)       (None, 79, 128)           1280000   \n",
            "                                                                 \n",
            " lstm (LSTM)                 (None, 256)               394240    \n",
            "                                                                 \n",
            " dense (Dense)               (None, 1)                 257       \n",
            "                                                                 \n",
            "=================================================================\n",
            "Total params: 1674497 (6.39 MB)\n",
            "Trainable params: 1674497 (6.39 MB)\n",
            "Non-trainable params: 0 (0.00 Byte)\n",
            "_________________________________________________________________\n"
          ]
        }
      ]
    },
    {
      "cell_type": "code",
      "source": [
        "model.fit(padded_sequences, labels, epochs=5, batch_size=64, validation_split=0.2)"
      ],
      "metadata": {
        "colab": {
          "base_uri": "https://localhost:8080/"
        },
        "id": "1uOt_NyaBw8B",
        "outputId": "513d840a-5073-4b79-fd54-62540b132d66"
      },
      "execution_count": null,
      "outputs": [
        {
          "output_type": "stream",
          "name": "stdout",
          "text": [
            "Epoch 1/5\n",
            "75/75 [==============================] - 25s 252ms/step - loss: 0.6493 - accuracy: 0.6250 - val_loss: 0.5613 - val_accuracy: 0.7275\n",
            "Epoch 2/5\n",
            "75/75 [==============================] - 16s 213ms/step - loss: 0.3602 - accuracy: 0.8490 - val_loss: 0.4997 - val_accuracy: 0.7783\n",
            "Epoch 3/5\n",
            "75/75 [==============================] - 17s 220ms/step - loss: 0.1751 - accuracy: 0.9340 - val_loss: 0.6489 - val_accuracy: 0.7575\n",
            "Epoch 4/5\n",
            "75/75 [==============================] - 31s 419ms/step - loss: 0.0863 - accuracy: 0.9696 - val_loss: 0.7982 - val_accuracy: 0.7425\n",
            "Epoch 5/5\n",
            "75/75 [==============================] - 15s 200ms/step - loss: 0.0603 - accuracy: 0.9812 - val_loss: 0.9355 - val_accuracy: 0.7233\n"
          ]
        },
        {
          "output_type": "execute_result",
          "data": {
            "text/plain": [
              "<keras.src.callbacks.History at 0x7d6270196f50>"
            ]
          },
          "metadata": {},
          "execution_count": 30
        }
      ]
    },
    {
      "cell_type": "code",
      "source": [
        "# Evaluate the model on the training set\n",
        "train_predictions = model.predict(padded_sequences)\n",
        "train_predictions = (train_predictions > 0.5).astype(int)"
      ],
      "metadata": {
        "colab": {
          "base_uri": "https://localhost:8080/"
        },
        "id": "wCzynp4pyPlP",
        "outputId": "aeb34241-009e-4694-878b-e490ecbe9d79"
      },
      "execution_count": null,
      "outputs": [
        {
          "output_type": "stream",
          "name": "stdout",
          "text": [
            "188/188 [==============================] - 7s 32ms/step\n"
          ]
        }
      ]
    },
    {
      "cell_type": "code",
      "source": [
        "from sklearn.metrics import accuracy_score, f1_score\n",
        "train_accuracy = accuracy_score(labels, train_predictions)\n",
        "train_f1 = f1_score(labels, train_predictions)\n",
        "\n",
        "print(f'Training Accuracy: {train_accuracy:.4f}')\n",
        "print(f'Training F1 Score: {train_f1:.4f}')"
      ],
      "metadata": {
        "colab": {
          "base_uri": "https://localhost:8080/"
        },
        "id": "E1z0lPl4yUR7",
        "outputId": "0edb68a1-42e3-4047-e3b7-e42f05b0f0da"
      },
      "execution_count": null,
      "outputs": [
        {
          "output_type": "stream",
          "name": "stdout",
          "text": [
            "Training Accuracy: 0.9368\n",
            "Training F1 Score: 0.9252\n"
          ]
        }
      ]
    },
    {
      "cell_type": "code",
      "source": [
        "label_dict1 = {\n",
        "    'NOT':0,\n",
        "    'HOF':1\n",
        "}\n",
        "def load_dataset_test(df=\"test_1.csv\"):\n",
        "  lines = []\n",
        "  with open(df, \"r\") as f:\n",
        "    reader = csv.reader(f)\n",
        "    for line in reader:\n",
        "      lines.append(line)\n",
        "    tweet=[]\n",
        "    label1 =[]\n",
        "    dic_data = ddict(list)\n",
        "    for (i,line) in enumerate(lines):\n",
        "      if i==0:\n",
        "        continue\n",
        "\n",
        "      _tweet = line[1]\n",
        "      _label1 = line[2]\n",
        "\n",
        "      tweet.append(_tweet)\n",
        "      label1.append(label_dict1[_label1])\n",
        "    label_list1 = [\"HOF\", \"NOT\"]\n",
        "    dic_data['tweet']=tweet\n",
        "    dic_data['label1']=label1\n",
        "    return dic_data,label_list1\n",
        "test_d, label_list1= load_dataset_test()\n",
        "print(test_d['label1'][:5])"
      ],
      "metadata": {
        "colab": {
          "base_uri": "https://localhost:8080/"
        },
        "id": "WBZ9OdBvyouu",
        "outputId": "f086949d-5502-48b0-e606-d2a1d6334ed9"
      },
      "execution_count": null,
      "outputs": [
        {
          "output_type": "stream",
          "name": "stdout",
          "text": [
            "[1, 1, 0, 1, 0]\n"
          ]
        }
      ]
    },
    {
      "cell_type": "code",
      "source": [
        "data_test = pd.DataFrame(\n",
        "    {\n",
        "        'X' : test_d['tweet'],\n",
        "        'Y' : test_d['label1']\n",
        "    }\n",
        ")\n",
        "test_texts = data_test['X'].tolist()\n",
        "test_labels = data_test['Y'].tolist()\n",
        "test_sequences = tokenizer.texts_to_sequences(test_texts)\n",
        "padded_test_sequences = pad_sequences(test_sequences, maxlen=max_sequence_length)\n",
        "test_labels = np.array(test_labels)\n",
        "test_predictions = model.predict(padded_test_sequences)\n",
        "test_predictions = (test_predictions > 0.5).astype(int)"
      ],
      "metadata": {
        "colab": {
          "base_uri": "https://localhost:8080/"
        },
        "id": "H1S9xgJsz9ac",
        "outputId": "2832050b-7460-4377-dff9-6aeae3e2ce50"
      },
      "execution_count": null,
      "outputs": [
        {
          "output_type": "stream",
          "name": "stdout",
          "text": [
            "47/47 [==============================] - 1s 25ms/step\n"
          ]
        }
      ]
    },
    {
      "cell_type": "code",
      "source": [
        "test_accuracy = accuracy_score(test_labels, test_predictions)\n",
        "test_f1 = f1_score(test_labels, test_predictions)\n",
        "\n",
        "print(f'Testing Accuracy: {test_accuracy:.4f}')\n",
        "print(f'Testing F1 Score: {test_f1:.4f}')"
      ],
      "metadata": {
        "colab": {
          "base_uri": "https://localhost:8080/"
        },
        "id": "_r04HcBI0aXw",
        "outputId": "cff06236-0309-46e0-ae38-0819410cce42"
      },
      "execution_count": null,
      "outputs": [
        {
          "output_type": "stream",
          "name": "stdout",
          "text": [
            "Testing Accuracy: 0.7347\n",
            "Testing F1 Score: 0.6934\n"
          ]
        }
      ]
    },
    {
      "cell_type": "code",
      "source": [
        "model = Sequential()\n",
        "model.add(Embedding(input_dim=10000, output_dim=128, input_length=max_sequence_length))\n",
        "model.add(LSTM(units=128, dropout=0.2, recurrent_dropout=0.2, return_sequences=True))\n",
        "model.add(Dense(units=1, activation='sigmoid'))\n",
        "model.add(LSTM(units=64, dropout=0.2, recurrent_dropout=0.2))  # Additional LSTM layer\n",
        "model.add(Dense(units=1, activation='sigmoid'))\n",
        "model.compile(loss='binary_crossentropy', optimizer='adam', metrics=['accuracy'])\n",
        "model.summary()"
      ],
      "metadata": {
        "colab": {
          "base_uri": "https://localhost:8080/"
        },
        "id": "Lz-gjidEGgcG",
        "outputId": "ad49eb81-cbbc-4b4b-b1fe-c81447fb37d0"
      },
      "execution_count": null,
      "outputs": [
        {
          "output_type": "stream",
          "name": "stderr",
          "text": [
            "WARNING:tensorflow:Layer lstm will not use cuDNN kernels since it doesn't meet the criteria. It will use a generic GPU kernel as fallback when running on GPU.\n",
            "WARNING:tensorflow:Layer lstm_1 will not use cuDNN kernels since it doesn't meet the criteria. It will use a generic GPU kernel as fallback when running on GPU.\n"
          ]
        },
        {
          "output_type": "stream",
          "name": "stdout",
          "text": [
            "Model: \"sequential\"\n",
            "_________________________________________________________________\n",
            " Layer (type)                Output Shape              Param #   \n",
            "=================================================================\n",
            " embedding (Embedding)       (None, 79, 128)           1280000   \n",
            "                                                                 \n",
            " lstm (LSTM)                 (None, 79, 128)           131584    \n",
            "                                                                 \n",
            " dense (Dense)               (None, 79, 1)             129       \n",
            "                                                                 \n",
            " lstm_1 (LSTM)               (None, 64)                16896     \n",
            "                                                                 \n",
            " dense_1 (Dense)             (None, 1)                 65        \n",
            "                                                                 \n",
            "=================================================================\n",
            "Total params: 1428674 (5.45 MB)\n",
            "Trainable params: 1428674 (5.45 MB)\n",
            "Non-trainable params: 0 (0.00 Byte)\n",
            "_________________________________________________________________\n"
          ]
        }
      ]
    },
    {
      "cell_type": "code",
      "source": [
        "import tensorflow as tf"
      ],
      "metadata": {
        "id": "KdnH8zYGNLX1"
      },
      "execution_count": null,
      "outputs": []
    },
    {
      "cell_type": "code",
      "source": [
        "img_file = './stackLSTM_1.png'\n",
        "\n",
        "tf.keras.utils.plot_model(model, to_file=img_file, show_shapes=True, show_layer_names=True)"
      ],
      "metadata": {
        "colab": {
          "base_uri": "https://localhost:8080/",
          "height": 644
        },
        "id": "Ltz2ZOFFNEXn",
        "outputId": "5362d2b3-10c4-4565-835b-597c4bed3119"
      },
      "execution_count": null,
      "outputs": [
        {
          "output_type": "execute_result",
          "data": {
            "image/png": "[encoded data removed]",
            "text/plain": [
              "<IPython.core.display.Image object>"
            ]
          },
          "metadata": {},
          "execution_count": 30
        }
      ]
    },
    {
      "cell_type": "code",
      "source": [
        "model.fit(padded_sequences, labels, epochs=5, batch_size=64, validation_split=0.2)"
      ],
      "metadata": {
        "colab": {
          "base_uri": "https://localhost:8080/"
        },
        "id": "rPaBDQSVGw2L",
        "outputId": "975dfebd-ed4c-48cb-99bf-a27d0e484c2c"
      },
      "execution_count": null,
      "outputs": [
        {
          "output_type": "stream",
          "name": "stdout",
          "text": [
            "Epoch 1/5\n",
            "75/75 [==============================] - 49s 581ms/step - loss: 0.6732 - accuracy: 0.5879 - val_loss: 0.6570 - val_accuracy: 0.6017\n",
            "Epoch 2/5\n",
            "75/75 [==============================] - 41s 554ms/step - loss: 0.6594 - accuracy: 0.5944 - val_loss: 0.6823 - val_accuracy: 0.5742\n",
            "Epoch 3/5\n",
            "75/75 [==============================] - 31s 417ms/step - loss: 0.6799 - accuracy: 0.5817 - val_loss: 0.6822 - val_accuracy: 0.5742\n",
            "Epoch 4/5\n",
            "75/75 [==============================] - 28s 368ms/step - loss: 0.6803 - accuracy: 0.5817 - val_loss: 0.6821 - val_accuracy: 0.5742\n",
            "Epoch 5/5\n",
            "75/75 [==============================] - 28s 373ms/step - loss: 0.6805 - accuracy: 0.5817 - val_loss: 0.6821 - val_accuracy: 0.5742\n"
          ]
        },
        {
          "output_type": "execute_result",
          "data": {
            "text/plain": [
              "<keras.src.callbacks.History at 0x7d61d73a11e0>"
            ]
          },
          "metadata": {},
          "execution_count": 45
        }
      ]
    },
    {
      "cell_type": "code",
      "source": [
        "train_predictions = model.predict(padded_sequences)\n",
        "train_predictions = (train_predictions > 0.5).astype(int)\n",
        "train_accuracy = accuracy_score(labels, train_predictions)\n",
        "train_f1 = f1_score(labels, train_predictions)\n",
        "\n",
        "print(f'Training Accuracy: {train_accuracy:.4f}')\n",
        "print(f'Training F1 Score: {train_f1:.4f}')"
      ],
      "metadata": {
        "colab": {
          "base_uri": "https://localhost:8080/"
        },
        "id": "sMqWq4-W1CYL",
        "outputId": "27ddca0e-80e8-438c-e02a-69d5a0cdfd40"
      },
      "execution_count": null,
      "outputs": [
        {
          "output_type": "stream",
          "name": "stdout",
          "text": [
            "188/188 [==============================] - 12s 59ms/step\n",
            "Training Accuracy: 0.5802\n",
            "Training F1 Score: 0.0000\n"
          ]
        }
      ]
    },
    {
      "cell_type": "code",
      "source": [
        "test_predictions = model.predict(padded_test_sequences)\n",
        "test_predictions = (test_predictions > 0.5).astype(int)\n",
        "test_accuracy = accuracy_score(test_labels, test_predictions)\n",
        "test_f1 = f1_score(test_labels, test_predictions)\n",
        "\n",
        "print(f'Testing Accuracy: {test_accuracy:.4f}')\n",
        "print(f'Testing F1 Score: {test_f1:.4f}')"
      ],
      "metadata": {
        "colab": {
          "base_uri": "https://localhost:8080/"
        },
        "id": "UCn7zD811M3v",
        "outputId": "4998619b-afbc-497c-e51b-7c826adbe2e0"
      },
      "execution_count": null,
      "outputs": [
        {
          "output_type": "stream",
          "name": "stdout",
          "text": [
            "47/47 [==============================] - 2s 51ms/step\n",
            "Testing Accuracy: 0.5620\n",
            "Testing F1 Score: 0.0000\n"
          ]
        }
      ]
    },
    {
      "cell_type": "code",
      "source": [
        "from tensorflow.keras.layers import Conv1D, MaxPooling1D, GlobalMaxPooling1D\n",
        "\n",
        "model = Sequential()\n",
        "\n",
        "# Add an Embedding layer\n",
        "model.add(Embedding(input_dim=10000, output_dim=128, input_length=max_sequence_length))\n",
        "\n",
        "# Add a Conv1D layer\n",
        "model.add(Conv1D(filters=64, kernel_size=5, activation='relu'))\n",
        "model.add(MaxPooling1D(pool_size=2))\n",
        "\n",
        "# Add an LSTM layer\n",
        "model.add(LSTM(units=128, dropout=0.2, recurrent_dropout=0.2))\n",
        "# Add Dense layers\n",
        "model.add(Dense(units=64, activation='relu'))\n",
        "model.add(Dense(units=1, activation='sigmoid'))\n",
        "\n",
        "model.compile(loss='binary_crossentropy', optimizer='adam', metrics=['accuracy'])\n",
        "\n",
        "model.summary()"
      ],
      "metadata": {
        "colab": {
          "base_uri": "https://localhost:8080/"
        },
        "id": "vLypGc3dJcC2",
        "outputId": "4c898fc6-397e-4492-ab04-61dd33d82249"
      },
      "execution_count": null,
      "outputs": [
        {
          "output_type": "stream",
          "name": "stderr",
          "text": [
            "WARNING:tensorflow:Layer lstm_2 will not use cuDNN kernels since it doesn't meet the criteria. It will use a generic GPU kernel as fallback when running on GPU.\n"
          ]
        },
        {
          "output_type": "stream",
          "name": "stdout",
          "text": [
            "Model: \"sequential_1\"\n",
            "_________________________________________________________________\n",
            " Layer (type)                Output Shape              Param #   \n",
            "=================================================================\n",
            " embedding_1 (Embedding)     (None, 79, 128)           1280000   \n",
            "                                                                 \n",
            " conv1d (Conv1D)             (None, 75, 64)            41024     \n",
            "                                                                 \n",
            " max_pooling1d (MaxPooling1  (None, 37, 64)            0         \n",
            " D)                                                              \n",
            "                                                                 \n",
            " lstm_2 (LSTM)               (None, 128)               98816     \n",
            "                                                                 \n",
            " dense_2 (Dense)             (None, 64)                8256      \n",
            "                                                                 \n",
            " dense_3 (Dense)             (None, 1)                 65        \n",
            "                                                                 \n",
            "=================================================================\n",
            "Total params: 1428161 (5.45 MB)\n",
            "Trainable params: 1428161 (5.45 MB)\n",
            "Non-trainable params: 0 (0.00 Byte)\n",
            "_________________________________________________________________\n"
          ]
        }
      ]
    },
    {
      "cell_type": "code",
      "source": [
        "img_file = './LSTMCNN_1.png'\n",
        "\n",
        "tf.keras.utils.plot_model(model, to_file=img_file, show_shapes=True, show_layer_names=True)"
      ],
      "metadata": {
        "colab": {
          "base_uri": "https://localhost:8080/",
          "height": 754
        },
        "id": "Q6itB383O6hm",
        "outputId": "4f99b7c2-97c0-483a-e517-e7efae03d411"
      },
      "execution_count": null,
      "outputs": [
        {
          "output_type": "execute_result",
          "data": {
            "image/png": "[encoded data removed]",
            "text/plain": [
              "<IPython.core.display.Image object>"
            ]
          },
          "metadata": {},
          "execution_count": 32
        }
      ]
    },
    {
      "cell_type": "code",
      "source": [
        "model.fit(padded_sequences, labels, epochs=5, batch_size=64, validation_split=0.2)"
      ],
      "metadata": {
        "colab": {
          "base_uri": "https://localhost:8080/"
        },
        "id": "Qe794YPmJxdm",
        "outputId": "5685c4b7-1592-4639-a9f8-25cbf59b98fb"
      },
      "execution_count": null,
      "outputs": [
        {
          "output_type": "stream",
          "name": "stdout",
          "text": [
            "Epoch 1/5\n",
            "75/75 [==============================] - 26s 233ms/step - loss: 0.6561 - accuracy: 0.6142 - val_loss: 0.5695 - val_accuracy: 0.7208\n",
            "Epoch 2/5\n",
            "75/75 [==============================] - 12s 154ms/step - loss: 0.3927 - accuracy: 0.8333 - val_loss: 0.5470 - val_accuracy: 0.7500\n",
            "Epoch 3/5\n",
            "75/75 [==============================] - 10s 138ms/step - loss: 0.1697 - accuracy: 0.9344 - val_loss: 0.7630 - val_accuracy: 0.7425\n",
            "Epoch 4/5\n",
            "75/75 [==============================] - 8s 108ms/step - loss: 0.0813 - accuracy: 0.9688 - val_loss: 1.0513 - val_accuracy: 0.7375\n",
            "Epoch 5/5\n",
            "75/75 [==============================] - 9s 118ms/step - loss: 0.0455 - accuracy: 0.9823 - val_loss: 1.2987 - val_accuracy: 0.7142\n"
          ]
        },
        {
          "output_type": "execute_result",
          "data": {
            "text/plain": [
              "<keras.src.callbacks.History at 0x7d61db1b39a0>"
            ]
          },
          "metadata": {},
          "execution_count": 49
        }
      ]
    },
    {
      "cell_type": "code",
      "source": [
        "train_predictions = model.predict(padded_sequences)\n",
        "train_predictions = (train_predictions > 0.5).astype(int)\n",
        "train_accuracy = accuracy_score(labels, train_predictions)\n",
        "train_f1 = f1_score(labels, train_predictions)\n",
        "\n",
        "print(f'Training Accuracy: {train_accuracy:.4f}')\n",
        "print(f'Training F1 Score: {train_f1:.4f}')"
      ],
      "metadata": {
        "colab": {
          "base_uri": "https://localhost:8080/"
        },
        "id": "84DB69Rb2Ky9",
        "outputId": "ce3e2174-e781-42be-bb42-64b514e6624f"
      },
      "execution_count": null,
      "outputs": [
        {
          "output_type": "stream",
          "name": "stdout",
          "text": [
            "188/188 [==============================] - 3s 13ms/step\n",
            "Training Accuracy: 0.9338\n",
            "Training F1 Score: 0.9190\n"
          ]
        }
      ]
    },
    {
      "cell_type": "code",
      "source": [
        "test_predictions = model.predict(padded_test_sequences)\n",
        "test_predictions = (test_predictions > 0.5).astype(int)\n",
        "test_accuracy = accuracy_score(test_labels, test_predictions)\n",
        "test_f1 = f1_score(test_labels, test_predictions)\n",
        "\n",
        "print(f'Testing Accuracy: {test_accuracy:.4f}')\n",
        "print(f'Testing F1 Score: {test_f1:.4f}')"
      ],
      "metadata": {
        "colab": {
          "base_uri": "https://localhost:8080/"
        },
        "id": "Vsl3CnO22Noo",
        "outputId": "bd3fc709-7e4d-41ea-dfef-db1fdee0cc8a"
      },
      "execution_count": null,
      "outputs": [
        {
          "output_type": "stream",
          "name": "stdout",
          "text": [
            "47/47 [==============================] - 1s 15ms/step\n",
            "Testing Accuracy: 0.7293\n",
            "Testing F1 Score: 0.6577\n"
          ]
        }
      ]
    },
    {
      "cell_type": "code",
      "source": [
        "from tensorflow.keras.layers import Conv1D, MaxPooling1D, GlobalMaxPooling1D\n",
        "\n",
        "model = Sequential()\n",
        "\n",
        "# Add an Embedding layer\n",
        "model.add(Embedding(input_dim=10000, output_dim=128, input_length=max_sequence_length))\n",
        "\n",
        "# Add a Conv1D layer\n",
        "model.add(Conv1D(filters=64, kernel_size=5, activation='relu'))\n",
        "model.add(MaxPooling1D(pool_size=2))\n",
        "\n",
        "model.add(LSTM(units=128, dropout=0.2, recurrent_dropout=0.2))\n",
        "\n",
        "model.add(Dense(units=1, activation='sigmoid'))\n",
        "\n",
        "model.compile(loss='binary_crossentropy', optimizer='adam', metrics=['accuracy'])\n",
        "\n",
        "model.summary()"
      ],
      "metadata": {
        "colab": {
          "base_uri": "https://localhost:8080/"
        },
        "id": "JQyrhksoKSLR",
        "outputId": "ced4c2be-a5e6-4446-ec35-018dc9e138e0"
      },
      "execution_count": null,
      "outputs": [
        {
          "output_type": "stream",
          "name": "stderr",
          "text": [
            "WARNING:tensorflow:Layer lstm_3 will not use cuDNN kernels since it doesn't meet the criteria. It will use a generic GPU kernel as fallback when running on GPU.\n"
          ]
        },
        {
          "output_type": "stream",
          "name": "stdout",
          "text": [
            "Model: \"sequential_2\"\n",
            "_________________________________________________________________\n",
            " Layer (type)                Output Shape              Param #   \n",
            "=================================================================\n",
            " embedding_2 (Embedding)     (None, 79, 128)           1280000   \n",
            "                                                                 \n",
            " conv1d_1 (Conv1D)           (None, 75, 64)            41024     \n",
            "                                                                 \n",
            " max_pooling1d_1 (MaxPoolin  (None, 37, 64)            0         \n",
            " g1D)                                                            \n",
            "                                                                 \n",
            " lstm_3 (LSTM)               (None, 128)               98816     \n",
            "                                                                 \n",
            " dense_4 (Dense)             (None, 1)                 129       \n",
            "                                                                 \n",
            "=================================================================\n",
            "Total params: 1419969 (5.42 MB)\n",
            "Trainable params: 1419969 (5.42 MB)\n",
            "Non-trainable params: 0 (0.00 Byte)\n",
            "_________________________________________________________________\n"
          ]
        }
      ]
    },
    {
      "cell_type": "code",
      "source": [
        "img_file = './LSTMCNN_2.png'\n",
        "\n",
        "tf.keras.utils.plot_model(model, to_file=img_file, show_shapes=True, show_layer_names=True)"
      ],
      "metadata": {
        "colab": {
          "base_uri": "https://localhost:8080/",
          "height": 644
        },
        "id": "IyG5A81TPa08",
        "outputId": "31768de8-6f7f-44cb-8baa-6510018d301b"
      },
      "execution_count": null,
      "outputs": [
        {
          "output_type": "execute_result",
          "data": {
            "image/png": "[encoded data removed]",
            "text/plain": [
              "<IPython.core.display.Image object>"
            ]
          },
          "metadata": {},
          "execution_count": 34
        }
      ]
    },
    {
      "cell_type": "code",
      "source": [
        "model.fit(padded_sequences, labels, epochs=5, batch_size=64, validation_split=0.2)"
      ],
      "metadata": {
        "colab": {
          "base_uri": "https://localhost:8080/"
        },
        "id": "dI4NKOpYKgGE",
        "outputId": "a465311c-8a93-405b-8e29-252498287729"
      },
      "execution_count": null,
      "outputs": [
        {
          "output_type": "stream",
          "name": "stdout",
          "text": [
            "Epoch 1/5\n",
            "75/75 [==============================] - 22s 243ms/step - loss: 0.6545 - accuracy: 0.6200 - val_loss: 0.5740 - val_accuracy: 0.7183\n",
            "Epoch 2/5\n",
            "75/75 [==============================] - 14s 183ms/step - loss: 0.3862 - accuracy: 0.8352 - val_loss: 0.5358 - val_accuracy: 0.7567\n",
            "Epoch 3/5\n",
            "75/75 [==============================] - 10s 127ms/step - loss: 0.1729 - accuracy: 0.9302 - val_loss: 0.7250 - val_accuracy: 0.7342\n",
            "Epoch 4/5\n",
            "75/75 [==============================] - 10s 131ms/step - loss: 0.0935 - accuracy: 0.9654 - val_loss: 0.9672 - val_accuracy: 0.7233\n",
            "Epoch 5/5\n",
            "75/75 [==============================] - 7s 93ms/step - loss: 0.0537 - accuracy: 0.9781 - val_loss: 1.3042 - val_accuracy: 0.7283\n"
          ]
        },
        {
          "output_type": "execute_result",
          "data": {
            "text/plain": [
              "<keras.src.callbacks.History at 0x7d61c430aec0>"
            ]
          },
          "metadata": {},
          "execution_count": 53
        }
      ]
    },
    {
      "cell_type": "code",
      "source": [
        "train_predictions = model.predict(padded_sequences)\n",
        "train_predictions = (train_predictions > 0.5).astype(int)\n",
        "train_accuracy = accuracy_score(labels, train_predictions)\n",
        "train_f1 = f1_score(labels, train_predictions)\n",
        "\n",
        "print(f'Training Accuracy: {train_accuracy:.4f}')\n",
        "print(f'Training F1 Score: {train_f1:.4f}')"
      ],
      "metadata": {
        "colab": {
          "base_uri": "https://localhost:8080/"
        },
        "id": "BavGHDWm258f",
        "outputId": "80fde6f9-4e02-4490-f0ae-eaad4855091a"
      },
      "execution_count": null,
      "outputs": [
        {
          "output_type": "stream",
          "name": "stdout",
          "text": [
            "188/188 [==============================] - 3s 16ms/step\n",
            "Training Accuracy: 0.9342\n",
            "Training F1 Score: 0.9204\n"
          ]
        }
      ]
    },
    {
      "cell_type": "code",
      "source": [
        "test_predictions = model.predict(padded_test_sequences)\n",
        "test_predictions = (test_predictions > 0.5).astype(int)\n",
        "test_accuracy = accuracy_score(test_labels, test_predictions)\n",
        "test_f1 = f1_score(test_labels, test_predictions)\n",
        "\n",
        "print(f'Testing Accuracy: {test_accuracy:.4f}')\n",
        "print(f'Testing F1 Score: {test_f1:.4f}')"
      ],
      "metadata": {
        "colab": {
          "base_uri": "https://localhost:8080/"
        },
        "id": "SkFxpMJN28N1",
        "outputId": "19420ea3-5590-4574-e7d1-0a1b5d0131a6"
      },
      "execution_count": null,
      "outputs": [
        {
          "output_type": "stream",
          "name": "stdout",
          "text": [
            "47/47 [==============================] - 1s 12ms/step\n",
            "Testing Accuracy: 0.7280\n",
            "Testing F1 Score: 0.6667\n"
          ]
        }
      ]
    },
    {
      "cell_type": "markdown",
      "source": [
        "Adding word2vec"
      ],
      "metadata": {
        "id": "8CG8VRhbQN8f"
      }
    },
    {
      "cell_type": "code",
      "source": [
        "from gensim.models import Word2Vec\n",
        "from nltk.tokenize import word_tokenize, sent_tokenize\n",
        "import nltk\n",
        "nltk.download('punkt')\n",
        "text_data = data['X'].tolist()\n",
        "sentences = [sent_tokenize(text) for text in text_data]\n",
        "train_texts = []\n",
        "for sentence_list in sentences:\n",
        "    sentence_words = []\n",
        "    for sentence in sentence_list:\n",
        "        sentence_words.extend(word_tokenize(sentence))\n",
        "    train_texts.append(sentence_words)\n",
        "word2vec_model = Word2Vec(sentences=train_texts, vector_size=300, window=5, min_count=1, sg=0)"
      ],
      "metadata": {
        "colab": {
          "base_uri": "https://localhost:8080/"
        },
        "id": "zTA2Jj_OQMUW",
        "outputId": "e8c7b40a-e8fc-4bf0-e3ba-dba7279084ab"
      },
      "execution_count": null,
      "outputs": [
        {
          "output_type": "stream",
          "name": "stderr",
          "text": [
            "[nltk_data] Downloading package punkt to /root/nltk_data...\n",
            "[nltk_data]   Unzipping tokenizers/punkt.zip.\n"
          ]
        }
      ]
    },
    {
      "cell_type": "code",
      "source": [
        "# Create a Tokenizer and fit on the text data\n",
        "tokenizer = Tokenizer(num_words=10000)  # Adjust the vocabulary size if needed\n",
        "tokenizer.fit_on_texts(texts)\n",
        "word_index = tokenizer.word_index"
      ],
      "metadata": {
        "id": "A4a480MPRft8"
      },
      "execution_count": null,
      "outputs": []
    },
    {
      "cell_type": "code",
      "source": [
        "embedding_matrix = np.zeros((len(word_index) + 1, 300))  # 300 is the dimensionality of Word2Vec embeddings\n",
        "\n",
        "for word, i in word_index.items():\n",
        "    if word in word2vec_model.wv:\n",
        "        embedding_matrix[i] = word2vec_model.wv[word]"
      ],
      "metadata": {
        "id": "1rgYfN62Q2VH"
      },
      "execution_count": null,
      "outputs": []
    },
    {
      "cell_type": "code",
      "source": [
        "from tensorflow.keras.layers import Embedding\n",
        "from tensorflow.keras.layers import Conv1D, MaxPooling1D, GlobalMaxPooling1D\n",
        "\n",
        "embedding_layer = Embedding(input_dim=len(word_index) + 1,\n",
        "                            output_dim=300,  # Use the same dimensionality as your Word2Vec embeddings\n",
        "                            weights=[embedding_matrix],\n",
        "                            input_length=max_sequence_length,\n",
        "                            trainable=False)  # Set to False to keep the custom embeddings fixed\n",
        "\n",
        "model = Sequential()\n",
        "model.add(embedding_layer)\n",
        "model.add(Conv1D(filters=64, kernel_size=5, activation='relu'))\n",
        "model.add(MaxPooling1D(pool_size=2))\n",
        "model.add(LSTM(units=128, dropout=0.2, recurrent_dropout=0.2))\n",
        "model.add(Dense(units=64, activation='relu'))\n",
        "model.add(Dense(units=1, activation='sigmoid'))\n",
        "\n",
        "model.compile(loss='binary_crossentropy', optimizer='adam', metrics=['accuracy'])\n",
        "model.summary()"
      ],
      "metadata": {
        "colab": {
          "base_uri": "https://localhost:8080/"
        },
        "id": "dCf5W-UIRPN0",
        "outputId": "8828a890-f058-47a1-d333-0a9359954d36"
      },
      "execution_count": null,
      "outputs": [
        {
          "output_type": "stream",
          "name": "stderr",
          "text": [
            "WARNING:tensorflow:Layer lstm_4 will not use cuDNN kernels since it doesn't meet the criteria. It will use a generic GPU kernel as fallback when running on GPU.\n"
          ]
        },
        {
          "output_type": "stream",
          "name": "stdout",
          "text": [
            "Model: \"sequential_3\"\n",
            "_________________________________________________________________\n",
            " Layer (type)                Output Shape              Param #   \n",
            "=================================================================\n",
            " embedding_3 (Embedding)     (None, 79, 300)           7678800   \n",
            "                                                                 \n",
            " conv1d_2 (Conv1D)           (None, 75, 64)            96064     \n",
            "                                                                 \n",
            " max_pooling1d_2 (MaxPoolin  (None, 37, 64)            0         \n",
            " g1D)                                                            \n",
            "                                                                 \n",
            " lstm_4 (LSTM)               (None, 128)               98816     \n",
            "                                                                 \n",
            " dense_5 (Dense)             (None, 64)                8256      \n",
            "                                                                 \n",
            " dense_6 (Dense)             (None, 1)                 65        \n",
            "                                                                 \n",
            "=================================================================\n",
            "Total params: 7882001 (30.07 MB)\n",
            "Trainable params: 203201 (793.75 KB)\n",
            "Non-trainable params: 7678800 (29.29 MB)\n",
            "_________________________________________________________________\n"
          ]
        }
      ]
    },
    {
      "cell_type": "code",
      "source": [
        "img_file = './LSTMCNN_3.png'\n",
        "\n",
        "tf.keras.utils.plot_model(model, to_file=img_file, show_shapes=True, show_layer_names=True)"
      ],
      "metadata": {
        "colab": {
          "base_uri": "https://localhost:8080/",
          "height": 754
        },
        "id": "IrLo7DktPt-x",
        "outputId": "69cbb196-efc4-4a8a-8db1-4c43e7f3fa21"
      },
      "execution_count": null,
      "outputs": [
        {
          "output_type": "execute_result",
          "data": {
            "image/png": "[encoded data removed]",
            "text/plain": [
              "<IPython.core.display.Image object>"
            ]
          },
          "metadata": {},
          "execution_count": 39
        }
      ]
    },
    {
      "cell_type": "code",
      "source": [
        "model.fit(padded_sequences, labels, epochs=5, batch_size=64, validation_split=0.2)"
      ],
      "metadata": {
        "colab": {
          "base_uri": "https://localhost:8080/"
        },
        "id": "lUUJUzEVRtIi",
        "outputId": "7671d970-4821-40e8-ac41-f7cf57742143"
      },
      "execution_count": null,
      "outputs": [
        {
          "output_type": "stream",
          "name": "stdout",
          "text": [
            "Epoch 1/5\n",
            "75/75 [==============================] - 9s 74ms/step - loss: 0.6762 - accuracy: 0.5860 - val_loss: 0.6698 - val_accuracy: 0.5908\n",
            "Epoch 2/5\n",
            "75/75 [==============================] - 6s 76ms/step - loss: 0.6695 - accuracy: 0.5858 - val_loss: 0.6713 - val_accuracy: 0.5742\n",
            "Epoch 3/5\n",
            "75/75 [==============================] - 6s 79ms/step - loss: 0.6688 - accuracy: 0.5842 - val_loss: 0.6685 - val_accuracy: 0.5925\n",
            "Epoch 4/5\n",
            "75/75 [==============================] - 5s 67ms/step - loss: 0.6670 - accuracy: 0.5917 - val_loss: 0.6699 - val_accuracy: 0.5867\n",
            "Epoch 5/5\n",
            "75/75 [==============================] - 6s 85ms/step - loss: 0.6665 - accuracy: 0.5838 - val_loss: 0.6683 - val_accuracy: 0.5858\n"
          ]
        },
        {
          "output_type": "execute_result",
          "data": {
            "text/plain": [
              "<keras.src.callbacks.History at 0x7ab4357178e0>"
            ]
          },
          "metadata": {},
          "execution_count": 49
        }
      ]
    },
    {
      "cell_type": "code",
      "source": [
        "# Evaluate the model on the training set\n",
        "train_predictions = model.predict(padded_sequences)\n",
        "train_predictions = (train_predictions > 0.5).astype(int)"
      ],
      "metadata": {
        "colab": {
          "base_uri": "https://localhost:8080/"
        },
        "id": "HyykB_oSVHZA",
        "outputId": "57dcdd1c-b796-433a-9b19-835a20862389"
      },
      "execution_count": null,
      "outputs": [
        {
          "output_type": "stream",
          "name": "stdout",
          "text": [
            "188/188 [==============================] - 2s 11ms/step\n"
          ]
        }
      ]
    },
    {
      "cell_type": "code",
      "source": [
        "from sklearn.metrics import accuracy_score, f1_score\n",
        "train_accuracy = accuracy_score(labels, train_predictions)\n",
        "train_f1 = f1_score(labels, train_predictions)\n",
        "\n",
        "print(f'Training Accuracy: {train_accuracy:.4f}')\n",
        "print(f'Training F1 Score: {train_f1:.4f}')"
      ],
      "metadata": {
        "colab": {
          "base_uri": "https://localhost:8080/"
        },
        "id": "2tEO4qbdVR6l",
        "outputId": "6f1eaecc-b479-4795-fc22-a1d169c9445b"
      },
      "execution_count": null,
      "outputs": [
        {
          "output_type": "stream",
          "name": "stdout",
          "text": [
            "Training Accuracy: 0.5938\n",
            "Training F1 Score: 0.1976\n"
          ]
        }
      ]
    },
    {
      "cell_type": "code",
      "source": [
        "data_test = pd.DataFrame(\n",
        "    {\n",
        "        'X' : test_d['tweet'],\n",
        "        'Y' : test_d['label1']\n",
        "    }\n",
        ")\n",
        "test_texts = data_test['X'].tolist()\n",
        "test_labels = data_test['Y'].tolist()\n",
        "test_sequences = tokenizer.texts_to_sequences(test_texts)\n",
        "padded_test_sequences = pad_sequences(test_sequences, maxlen=max_sequence_length)\n",
        "test_labels = np.array(test_labels)\n",
        "test_predictions = model.predict(padded_test_sequences)\n",
        "test_predictions = (test_predictions > 0.5).astype(int)"
      ],
      "metadata": {
        "colab": {
          "base_uri": "https://localhost:8080/"
        },
        "id": "BVdttbfjVdZ_",
        "outputId": "4602412d-b764-4dea-a294-9a50d6b3f592"
      },
      "execution_count": null,
      "outputs": [
        {
          "output_type": "stream",
          "name": "stdout",
          "text": [
            "47/47 [==============================] - 1s 16ms/step\n"
          ]
        }
      ]
    },
    {
      "cell_type": "code",
      "source": [
        "test_accuracy = accuracy_score(test_labels, test_predictions)\n",
        "test_f1 = f1_score(test_labels, test_predictions)\n",
        "\n",
        "print(f'Testing Accuracy: {test_accuracy:.4f}')\n",
        "print(f'Testing F1 Score: {test_f1:.4f}')"
      ],
      "metadata": {
        "colab": {
          "base_uri": "https://localhost:8080/"
        },
        "id": "SNS7ZffRVpvl",
        "outputId": "2fecdc02-daa8-46a9-8285-d4a39dc786d6"
      },
      "execution_count": null,
      "outputs": [
        {
          "output_type": "stream",
          "name": "stdout",
          "text": [
            "Testing Accuracy: 0.5760\n",
            "Testing F1 Score: 0.1783\n"
          ]
        }
      ]
    },
    {
      "cell_type": "code",
      "source": [
        "from tensorflow.keras.layers import Embedding\n",
        "\n",
        "embedding_layer = Embedding(input_dim=len(word_index) + 1,\n",
        "                            output_dim=300,  # Use the same dimensionality as your Word2Vec embeddings\n",
        "                            weights=[embedding_matrix],\n",
        "                            input_length=max_sequence_length,\n",
        "                            trainable=False)  # Set to False to keep the custom embeddings fixed\n",
        "\n",
        "model1 = Sequential()\n",
        "model1.add(embedding_layer)\n",
        "model1.add(LSTM(units=128, dropout=0.2, recurrent_dropout=0.2))\n",
        "\n",
        "model1.add(Dense(units=1, activation='sigmoid'))\n",
        "\n",
        "model1.compile(loss='binary_crossentropy', optimizer='adam', metrics=['accuracy'])\n",
        "model1.summary()"
      ],
      "metadata": {
        "colab": {
          "base_uri": "https://localhost:8080/"
        },
        "id": "gv8EgWH2SdUI",
        "outputId": "7c0ab39a-670d-4187-ea20-d9b6445e4311"
      },
      "execution_count": null,
      "outputs": [
        {
          "output_type": "stream",
          "name": "stderr",
          "text": [
            "WARNING:tensorflow:Layer lstm_5 will not use cuDNN kernels since it doesn't meet the criteria. It will use a generic GPU kernel as fallback when running on GPU.\n"
          ]
        },
        {
          "output_type": "stream",
          "name": "stdout",
          "text": [
            "Model: \"sequential_6\"\n",
            "_________________________________________________________________\n",
            " Layer (type)                Output Shape              Param #   \n",
            "=================================================================\n",
            " embedding_6 (Embedding)     (None, 79, 300)           7678800   \n",
            "                                                                 \n",
            " lstm_5 (LSTM)               (None, 128)               219648    \n",
            "                                                                 \n",
            " dense_7 (Dense)             (None, 1)                 129       \n",
            "                                                                 \n",
            "=================================================================\n",
            "Total params: 7898577 (30.13 MB)\n",
            "Trainable params: 219777 (858.50 KB)\n",
            "Non-trainable params: 7678800 (29.29 MB)\n",
            "_________________________________________________________________\n"
          ]
        }
      ]
    },
    {
      "cell_type": "code",
      "source": [
        "model1.fit(padded_sequences, labels, epochs=5, batch_size=64, validation_split=0.2)"
      ],
      "metadata": {
        "colab": {
          "base_uri": "https://localhost:8080/"
        },
        "id": "3JWBDhxcUKC_",
        "outputId": "1f981424-40e1-43a2-eeab-a2abf052868a"
      },
      "execution_count": null,
      "outputs": [
        {
          "output_type": "stream",
          "name": "stdout",
          "text": [
            "Epoch 1/5\n",
            "75/75 [==============================] - 12s 137ms/step - loss: 0.6795 - accuracy: 0.5750 - val_loss: 0.6702 - val_accuracy: 0.5975\n",
            "Epoch 2/5\n",
            "75/75 [==============================] - 16s 214ms/step - loss: 0.6719 - accuracy: 0.5927 - val_loss: 0.6723 - val_accuracy: 0.5742\n",
            "Epoch 3/5\n",
            "75/75 [==============================] - 10s 131ms/step - loss: 0.6655 - accuracy: 0.5904 - val_loss: 0.6724 - val_accuracy: 0.5942\n",
            "Epoch 4/5\n",
            "75/75 [==============================] - 8s 112ms/step - loss: 0.6652 - accuracy: 0.5958 - val_loss: 0.6681 - val_accuracy: 0.5783\n",
            "Epoch 5/5\n",
            "75/75 [==============================] - 10s 133ms/step - loss: 0.6639 - accuracy: 0.5927 - val_loss: 0.6665 - val_accuracy: 0.5883\n"
          ]
        },
        {
          "output_type": "execute_result",
          "data": {
            "text/plain": [
              "<keras.src.callbacks.History at 0x7ab431138e50>"
            ]
          },
          "metadata": {},
          "execution_count": 55
        }
      ]
    },
    {
      "cell_type": "code",
      "source": [
        "train_predictions = model1.predict(padded_sequences)\n",
        "train_predictions = (train_predictions > 0.5).astype(int)\n",
        "train_accuracy = accuracy_score(labels, train_predictions)\n",
        "train_f1 = f1_score(labels, train_predictions)\n",
        "\n",
        "print(f'Training Accuracy: {train_accuracy:.4f}')\n",
        "print(f'Training F1 Score: {train_f1:.4f}')"
      ],
      "metadata": {
        "colab": {
          "base_uri": "https://localhost:8080/"
        },
        "id": "LYCcD_drWGE-",
        "outputId": "5414f747-d14a-4482-faf2-833d51a9011d"
      },
      "execution_count": null,
      "outputs": [
        {
          "output_type": "stream",
          "name": "stdout",
          "text": [
            "188/188 [==============================] - 5s 25ms/step\n",
            "Training Accuracy: 0.5942\n",
            "Training F1 Score: 0.4128\n"
          ]
        }
      ]
    },
    {
      "cell_type": "code",
      "source": [
        "test_predictions = model1.predict(padded_test_sequences)\n",
        "test_predictions = (test_predictions > 0.5).astype(int)\n",
        "test_accuracy = accuracy_score(test_labels, test_predictions)\n",
        "test_f1 = f1_score(test_labels, test_predictions)\n",
        "\n",
        "print(f'Testing Accuracy: {test_accuracy:.4f}')\n",
        "print(f'Testing F1 Score: {test_f1:.4f}')"
      ],
      "metadata": {
        "colab": {
          "base_uri": "https://localhost:8080/"
        },
        "id": "roPWM4mdWJUQ",
        "outputId": "2b047ea1-dd0d-45b2-fa07-e7165d689bb2"
      },
      "execution_count": null,
      "outputs": [
        {
          "output_type": "stream",
          "name": "stdout",
          "text": [
            "47/47 [==============================] - 1s 21ms/step\n",
            "Testing Accuracy: 0.5773\n",
            "Testing F1 Score: 0.4097\n"
          ]
        }
      ]
    },
    {
      "cell_type": "code",
      "source": [
        "from tensorflow.keras.layers import Conv1D, MaxPooling1D, GlobalMaxPooling1D\n",
        "\n",
        "model2 = Sequential()\n",
        "\n",
        "# Add an Embedding layer\n",
        "model2.add(Embedding(input_dim=10000, output_dim=128, input_length=max_sequence_length))\n",
        "\n",
        "# Add a Conv1D layer\n",
        "model2.add(Conv1D(filters=64, kernel_size=5, activation='relu'))\n",
        "model2.add(MaxPooling1D(pool_size=2))\n",
        "\n",
        "model2.add(LSTM(units=256, dropout=0.5, recurrent_dropout=0.5))\n",
        "\n",
        "model2.add(Dense(units=1, activation='sigmoid'))\n",
        "\n",
        "model2.compile(loss='binary_crossentropy', optimizer='adam', metrics=['accuracy'])\n",
        "\n",
        "model2.summary()"
      ],
      "metadata": {
        "colab": {
          "base_uri": "https://localhost:8080/"
        },
        "id": "KOnK0G4kUNmF",
        "outputId": "23c5ab01-46e1-4673-dd65-3a7d796e3276"
      },
      "execution_count": null,
      "outputs": [
        {
          "output_type": "stream",
          "name": "stderr",
          "text": [
            "WARNING:tensorflow:Layer lstm_6 will not use cuDNN kernels since it doesn't meet the criteria. It will use a generic GPU kernel as fallback when running on GPU.\n"
          ]
        },
        {
          "output_type": "stream",
          "name": "stdout",
          "text": [
            "Model: \"sequential_7\"\n",
            "_________________________________________________________________\n",
            " Layer (type)                Output Shape              Param #   \n",
            "=================================================================\n",
            " embedding_7 (Embedding)     (None, 79, 128)           1280000   \n",
            "                                                                 \n",
            " conv1d_4 (Conv1D)           (None, 75, 64)            41024     \n",
            "                                                                 \n",
            " max_pooling1d_4 (MaxPoolin  (None, 37, 64)            0         \n",
            " g1D)                                                            \n",
            "                                                                 \n",
            " lstm_6 (LSTM)               (None, 256)               328704    \n",
            "                                                                 \n",
            " dense_8 (Dense)             (None, 1)                 257       \n",
            "                                                                 \n",
            "=================================================================\n",
            "Total params: 1649985 (6.29 MB)\n",
            "Trainable params: 1649985 (6.29 MB)\n",
            "Non-trainable params: 0 (0.00 Byte)\n",
            "_________________________________________________________________\n"
          ]
        }
      ]
    },
    {
      "cell_type": "code",
      "source": [
        "model2.fit(padded_sequences, labels, epochs=5, batch_size=64, validation_split=0.2)"
      ],
      "metadata": {
        "colab": {
          "base_uri": "https://localhost:8080/"
        },
        "id": "ri79x7O2WBLn",
        "outputId": "ae2362c6-fed1-40bc-b938-443eba337bdd"
      },
      "execution_count": null,
      "outputs": [
        {
          "output_type": "stream",
          "name": "stdout",
          "text": [
            "Epoch 1/5\n",
            "75/75 [==============================] - 13s 174ms/step - loss: 0.6145 - accuracy: 0.6610 - val_loss: 0.5485 - val_accuracy: 0.7392\n",
            "Epoch 2/5\n",
            "75/75 [==============================] - 9s 123ms/step - loss: 0.3411 - accuracy: 0.8573 - val_loss: 0.5624 - val_accuracy: 0.7467\n",
            "Epoch 3/5\n",
            "75/75 [==============================] - 9s 114ms/step - loss: 0.1540 - accuracy: 0.9383 - val_loss: 0.7918 - val_accuracy: 0.7317\n",
            "Epoch 4/5\n",
            "75/75 [==============================] - 9s 121ms/step - loss: 0.0789 - accuracy: 0.9677 - val_loss: 1.1984 - val_accuracy: 0.7233\n",
            "Epoch 5/5\n",
            "75/75 [==============================] - 6s 86ms/step - loss: 0.0489 - accuracy: 0.9808 - val_loss: 1.2807 - val_accuracy: 0.7250\n"
          ]
        },
        {
          "output_type": "execute_result",
          "data": {
            "text/plain": [
              "<keras.src.callbacks.History at 0x7ab435716980>"
            ]
          },
          "metadata": {},
          "execution_count": 60
        }
      ]
    },
    {
      "cell_type": "code",
      "source": [
        "train_predictions = model2.predict(padded_sequences)\n",
        "train_predictions = (train_predictions > 0.5).astype(int)\n",
        "train_accuracy = accuracy_score(labels, train_predictions)\n",
        "train_f1 = f1_score(labels, train_predictions)\n",
        "\n",
        "print(f'Training Accuracy: {train_accuracy:.4f}')\n",
        "print(f'Training F1 Score: {train_f1:.4f}')"
      ],
      "metadata": {
        "colab": {
          "base_uri": "https://localhost:8080/"
        },
        "id": "nd8u6lWCZ6sQ",
        "outputId": "f0fe2641-f971-48d0-b79f-b2e66cef2922"
      },
      "execution_count": null,
      "outputs": [
        {
          "output_type": "stream",
          "name": "stdout",
          "text": [
            "188/188 [==============================] - 2s 11ms/step\n",
            "Training Accuracy: 0.9365\n",
            "Training F1 Score: 0.9248\n"
          ]
        }
      ]
    },
    {
      "cell_type": "code",
      "source": [
        "test_predictions = model2.predict(padded_test_sequences)\n",
        "test_predictions = (test_predictions > 0.5).astype(int)\n",
        "test_accuracy = accuracy_score(test_labels, test_predictions)\n",
        "test_f1 = f1_score(test_labels, test_predictions)\n",
        "\n",
        "print(f'Testing Accuracy: {test_accuracy:.4f}')\n",
        "print(f'Testing F1 Score: {test_f1:.4f}')"
      ],
      "metadata": {
        "colab": {
          "base_uri": "https://localhost:8080/"
        },
        "id": "XCOkPSb6aAH_",
        "outputId": "804ea9fd-7cfd-4e96-ea36-236e6ba3e39b"
      },
      "execution_count": null,
      "outputs": [
        {
          "output_type": "stream",
          "name": "stdout",
          "text": [
            "47/47 [==============================] - 1s 31ms/step\n",
            "Testing Accuracy: 0.7227\n",
            "Testing F1 Score: 0.6858\n"
          ]
        }
      ]
    }
  ]
}